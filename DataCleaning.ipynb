{
 "cells": [
  {
   "cell_type": "markdown",
   "metadata": {},
   "source": [
    "# Cleaning Data"
   ]
  },
  {
   "cell_type": "markdown",
   "metadata": {},
   "source": [
    "* ## Import relevant packages"
   ]
  },
  {
   "cell_type": "code",
   "execution_count": 3,
   "metadata": {},
   "outputs": [],
   "source": [
    "import pandas as pd\n",
    "import numpy as np"
   ]
  },
  {
   "cell_type": "markdown",
   "metadata": {},
   "source": [
    "* ## Functions for choosing variables"
   ]
  },
  {
   "cell_type": "code",
   "execution_count": 824,
   "metadata": {},
   "outputs": [],
   "source": [
    "def remove_variables(df):\n",
    "\n",
    "    raw = df\n",
    "\n",
    "    list_drop = ['address.gstKvhx', 'address.municipalityNumber', 'address.oisPropertyNumber',\n",
    "                 'address.itemType', 'address.itemTypeNumber', 'address.mapPosition.hasCoordinates',\n",
    "                 'address.wishPropertyLocationLink', 'address.hasEnergyMark', 'address.energyMarkLink',\n",
    "                 'address.environmentData.soilContamination', 'address.environmentData.serviceStatus.renewTicket',\n",
    "                 'address.environmentData.serviceStatus.errorCode', 'address.environmentData.serviceStatus.errorText',\n",
    "                 'address.environmentData.serviceStatus.errorId', 'address.latestValuation.farmhouseParcelValuation',\n",
    "                 'address.latestValuation.farmhousePropertyValuation', 'address.latestSale.saleTypeId',\n",
    "                 'address.latestForSale.id', 'address.latestForSale.addressId', 'address.latestForSale.isArchive',\n",
    "                 'address.latestForSale.uniqueNumber', 'address.latestForSale.description',\n",
    "                 'address.latestForSale.descriptionHeadline', 'address.latestForSale.itemType',\n",
    "                 'address.latestForSale.itemTypeNumber', 'address.latestForSale.marketingItemType',\n",
    "                 'address.latestForSale.placeName', 'address.latestForSale.placeNameSeparator',\n",
    "                 'address.latestForSale.imageLink100X80', 'address.latestForSale.imageLink143X118',\n",
    "                 'address.latestForSale.imageLink300X200', 'address.latestForSale.imageLink600X600',\n",
    "                 'address.latestForSale.canShowSalesPeriodTotal', 'address.latestForSale.areaWeightedAsterix',\n",
    "                 'address.latestForSale.areaWeightedTitleMessage', 'address.latestForSale.areaWeightedKrM2Title',\n",
    "                 'address.latestForSale.agentChainName', 'address.latestForSale.agentId',\n",
    "                 'address.latestForSale.agentsLogoLink', 'address.latestForSale.propertyLink',\n",
    "                 'address.latestForSale.redirectLink', 'address.latestForSale.memberOfDe',\n",
    "                 'address.latestForSale.hasEnergyMark', 'address.latestForSale.energyMarkLink',\n",
    "                 'address.latestForSale.hasOpenHouse', 'address.latestForSale.nextOpenHouse',\n",
    "                 'address.latestForSale.nextOpenHouseShort', 'address.latestForSale.nextOpenHouseSignup',\n",
    "                 'address.latestForSale.municipalityNumber', 'address.latestForSale.oisPropertyNumber',\n",
    "                 'address.latestForSale.isFavorite', 'address.latestForSale.hasComment',\n",
    "                 'address.latestForSale.comment', 'address.latestForSale.financing.link',\n",
    "                 'address.latestForSale.financing.text', 'address.latestForSale.rentalLink',\n",
    "                 'address.latestForSale.linkDomain', 'address.latestForSale.propertyPartiallyOwnedFinancialData',\n",
    "                 'address.latestForSale.mapPosition.hasCoordinates', 'address.latestForSale.videoRedirectLink',\n",
    "                 'address.latestForSale.openHouseRedirectLink', 'address.latestForSale.projectSale',\n",
    "                 'address.latestForSale.kvhx', 'address.latestForSale.gstKvhx',\n",
    "                 'address.latestForSale.wishPropertyLocationLink', 'address.latestForSale.hasAreaWeighted',\n",
    "                 'address.latestForSale.hasRentalLink', 'address.latestForSale.hasVideoLink',\n",
    "                 'address.latestForSale.oisHidden', 'address.latestForSale.nextOpenHouseTime',\n",
    "                 'address.latestForSale.calculateLoanAgentChain', 'address.latestForSale.label', 'bbrData.type',\n",
    "                 'bbrData.mostImportantBuilding', 'bbrData.buildings', 'bbrData.mostImportantUnit.unitUsage.code',\n",
    "                 'bbrData.mostImportantUnit.propertyType.code', 'bbrData.mostImportantUnit.unitCommercialArea',\n",
    "                 'bbrData.mostImportantUnit.toilet.code', 'bbrData.mostImportantUnit.bath.code',\n",
    "                 'bbrData.mostImportantUnit.kitchen.code', 'bbrData.mostImportantUnit.otherArea',\n",
    "                 'bbrData.mostImportantUnit.accessAddressId', 'bbrData.mostImportantUnit.buildingId',\n",
    "                 'bbrData.accessAddressId', 'bbrData.mostImportantBuilding.conservation.code',\n",
    "                 'bbrData.mostImportantBuilding.buildingUsage.code',\n",
    "                 'bbrData.mostImportantBuilding.numberOfApartmentsWithKitchen',\n",
    "                 'bbrData.mostImportantBuilding.numberOfApartmentsWithoutKitchen',\n",
    "                 'bbrData.mostImportantBuilding.ownersAssociationCode',\n",
    "                 'bbrData.mostImportantBuilding.landRegistrationNumber',\n",
    "                 'bbrData.mostImportantBuilding.accessArea', 'bbrData.mostImportantBuilding.commercialAreaTotal',\n",
    "                 'bbrData.mostImportantBuilding.garageArea', 'bbrData.mostImportantBuilding.carportArea',\n",
    "                 'bbrData.mostImportantBuilding.outhouseArea', 'bbrData.mostImportantBuilding.patioArea',\n",
    "                 'bbrData.mostImportantBuilding.closedCoveredArea',\n",
    "                 'bbrData.mostImportantBuilding.garbageDisposalArea',\n",
    "                 'bbrData.mostImportantBuilding.otherArea', 'bbrData.mostImportantBuilding.coveredArea',\n",
    "                 'bbrData.mostImportantBuilding.openCoveredArea',\n",
    "                 'bbrData.mostImportantBuilding.exteriorWallMaterial.code',\n",
    "                 'bbrData.mostImportantBuilding.roofingMaterial.code',\n",
    "                 'bbrData.mostImportantBuilding.supplementaryWallMaterial.code',\n",
    "                 'bbrData.mostImportantBuilding.supplementaryRoofingMaterial.code',\n",
    "                 'bbrData.mostImportantBuilding.asbestosMaterial.code',\n",
    "                 'bbrData.mostImportantBuilding.materialSource.code',\n",
    "                 'bbrData.mostImportantBuilding.heatingInstallation.code',\n",
    "                 'bbrData.mostImportantBuilding.heating.code',\n",
    "                 'bbrData.mostImportantBuilding.supplementaryHeating.code',\n",
    "                 'bbrData.mostImportantBuilding.buildingWaterSupply.code',\n",
    "                 'bbrData.mostImportantBuilding.buildingDrain.code',\n",
    "                 'bbrData.mostImportantBuilding.buildingDrainPermission',\n",
    "                 'bbrData.mostImportantBuilding.ownership.code',\n",
    "                 'bbrData.mostImportantBuilding.accessAddressId', 'bbrData.mostImportantBuilding.buildingId',\n",
    "                 'dingeo_link', 'address.latestForSale.propertyPartiallyOwnedFinancialData.purchasePrice',\n",
    "                 'address.latestForSale.propertyPartiallyOwnedFinancialData.maximumPriceRatio',\n",
    "                 'address.latestForSale.propertyPartiallyOwnedFinancialData.maximumPrice',\n",
    "                 'address.latestForSale.propertyPartiallyOwnedFinancialData.housingAssociationDebtShare',\n",
    "                 'address.latestForSale.propertyPartiallyOwnedFinancialData.housingAssociationDebt',\n",
    "                 'address.latestForSale.propertyPartiallyOwnedFinancialData.financingInformation',\n",
    "                 'address.latestForSale.propertyPartiallyOwnedFinancialData.expenseNet',\n",
    "                 'address.latestForSale.propertyPartiallyOwnedFinancialData.expenseGross',\n",
    "                 'address.latestForSale.propertyPartiallyOwnedFinancialData.estimatedTechnicalPrice',\n",
    "                 'address.latestForSale.propertyPartiallyOwnedFinancialData.estimatedTechnicalAreaPrice',\n",
    "                 'address.latestForSale.propertyPartiallyOwnedFinancialData.downPayment',\n",
    "                 'address.latestForSale.propertyPartiallyOwnedFinancialData.distributionRatio',\n",
    "                 'address.latestForSale.rating.ratings.conditionRating',\n",
    "                 'address.latestForSale.rating.ratings.kitchenRating',\n",
    "                 'address.latestForSale.rating.ratings.locationRating',\n",
    "                 'address.latestForSale.rating.ratings.bathRating', 'address.latestForSale.rating.averageRating',\n",
    "                 'address.latestForSale.rating.roundAverageRating', 'bbrData.areaWeighted', 'address.latestForSale',\n",
    "                 'address.latestForSale.mapPosition.latLng', 'bbrData.mostImportantUnit', 'address.latestValuation',\n",
    "                 'bbrData', 'address.environmentData.breakInStatistic', 'address.mapPosition.latLng',\n",
    "                 'address.latestSale', 'Location']\n",
    "\n",
    "    list_keep = ['address.address', 'address.buildYear', 'address.rebuildYear', 'address.postalId', 'address.city',\n",
    "                 'address.street', 'address.streetName', 'address.itemTypeName', 'address.mapPosition.latLng.lat',\n",
    "                 'address.mapPosition.latLng.lng', 'address.energyMark', 'address.environmentData.radonRiskCategory',\n",
    "                 'address.environmentData.drinkingWaterHardnessCategory',\n",
    "                 'address.environmentData.breakInStatistic.municipalityAverage',\n",
    "                 'address.environmentData.breakInStatistic.countyAverage',\n",
    "                 'address.environmentData.breakInStatistic.countryAverage',\n",
    "                 'address.environmentData.breakInStatistic.riskCategory', 'address.latestValuation.valuationYear',\n",
    "                 'address.latestValuation.valuationDate', 'address.latestValuation.parcelValuation',\n",
    "                 'address.latestValuation.propertyValuation', 'address.latestSale.saleDate',\n",
    "                 'address.latestSale.salePrice', 'address.latestSale.saleType', 'address.latestSale.salesYear',\n",
    "                 'address.latestForSale.buildYear', 'address.latestForSale.priceDevelopment',\n",
    "                 'address.latestForSale.priceDevelopmentHistoric', 'address.latestForSale.propertyCharges',\n",
    "                 'address.latestForSale.usageExpenses', 'address.latestForSale.paymentGross',\n",
    "                 'address.latestForSale.paymentNet', 'address.latestForSale.paymentExpenses',\n",
    "                 'address.latestForSale.itemTypeName', 'address.latestForSale.address',\n",
    "                 'address.latestForSale.streetName', 'address.latestForSale.houseNumber',\n",
    "                 'address.latestForSale.city', 'address.latestForSale.postal', 'address.latestForSale.paymentCash',\n",
    "                 'address.latestForSale.downPayment', 'address.latestForSale.numberOfRooms',\n",
    "                 'address.latestForSale.salesPeriod', 'address.latestForSale.salesPeriodTotal',\n",
    "                 'address.latestForSale.area', 'address.latestForSale.areaResidential',\n",
    "                 'address.latestForSale.areaParcel', 'address.latestForSale.areaBasement',\n",
    "                 'address.latestForSale.areaWeighted', 'address.latestForSale.areaPaymentCash',\n",
    "                 'address.latestForSale.numberOfFloors', 'address.latestForSale.floor',\n",
    "                 'address.latestForSale.floorName', 'address.latestForSale.energyMark',\n",
    "                 'address.latestForSale.dateAdded', 'address.latestForSale.dateRemoved',\n",
    "                 'address.latestForSale.dateAnnounced', 'address.latestForSale.mapPosition.latLng.lat',\n",
    "                 'address.latestForSale.mapPosition.latLng.lng', 'address.latestForSale.rebuildYear',\n",
    "                 'bbrData.mostImportantUnit.unitUsage.content', 'bbrData.mostImportantUnit.propertyType.content',\n",
    "                 'bbrData.mostImportantUnit.unitAreaTotal', 'bbrData.mostImportantUnit.residentialArea',\n",
    "                 'bbrData.mostImportantUnit.numberOfRooms', 'bbrData.mostImportantUnit.toilet.content',\n",
    "                 'bbrData.mostImportantUnit.bath.content', 'bbrData.mostImportantUnit.kitchen.content',\n",
    "                 'bbrData.mostImportantUnit.energy.code', 'bbrData.mostImportantUnit.energy.content',\n",
    "                 'bbrData.mostImportantUnit.numberOfFlushToilets', 'bbrData.mostImportantUnit.numberOfBathrooms',\n",
    "                 'bbrData.units', 'bbrData.mostImportantBuilding.buildingNumber',\n",
    "                 'bbrData.mostImportantBuilding.buildYear', 'bbrData.mostImportantBuilding.rebuildYear',\n",
    "                 'bbrData.mostImportantBuilding.conservation.content', 'bbrData.mostImportantBuilding.numberOfFloors',\n",
    "                 'bbrData.mostImportantBuilding.buildingUsage.content',\n",
    "                 'bbrData.mostImportantBuilding.residentialAreaTotal',\n",
    "                 'bbrData.mostImportantBuilding.buildingAreaTotal', 'bbrData.mostImportantBuilding.builtAreaTotal',\n",
    "                 'bbrData.mostImportantBuilding.exteriorWallMaterial.content',\n",
    "                 'bbrData.mostImportantBuilding.roofingMaterial.content',\n",
    "                 'bbrData.mostImportantBuilding.supplementaryWallMaterial.content',\n",
    "                 'bbrData.mostImportantBuilding.supplementaryRoofingMaterial.content',\n",
    "                 'bbrData.mostImportantBuilding.asbestosMaterial.content',\n",
    "                 'bbrData.mostImportantBuilding.materialSource.content',\n",
    "                 'bbrData.mostImportantBuilding.heatingInstallation.content',\n",
    "                 'bbrData.mostImportantBuilding.heating.content',\n",
    "                 'bbrData.mostImportantBuilding.supplementaryHeating.content',\n",
    "                 'bbrData.mostImportantBuilding.buildingWaterSupply.content',\n",
    "                 'bbrData.mostImportantBuilding.buildingDrain.content',\n",
    "                 'bbrData.mostImportantBuilding.ownership.content', 'bbrData.mostImportantBuilding.municipalityName',\n",
    "                 'Radonrisiko', 'Støjmåling', 'Oversvømmelsesrisiko_skybrud', 'Meter_over_havet', 'Anvendelse',\n",
    "                 'Opførselsesår', 'Ombygningsår', 'Fredning', 'Køkkenforhold', 'Antal Etager', 'Antal toiletter',\n",
    "                 'Antal badeværelser', 'Antal værelser', 'Ydervægsmateriale', 'Tagmateriale', 'Varmeinstallation',\n",
    "                 'Bygning, Samlet areal', 'Boligstørrelse', 'Vægtet Areal', 'Energimærke', 'Indbrudsrisiko',\n",
    "                 'Bevaringsværdig', 'Største_parti', 'Valgdeltagelse', 'Afstemningsområde', 'Kælder', 'Location',\n",
    "                 'school', 'roadtrain', 'junction', 'daycare', 'metro', 'doctor', 'soccerfield', 'hospital', 'stop',\n",
    "                 'lake', 'supermarket', 'pharmacy', 'strain', 'airport', 'train', 'library', 'publicbath', 'coast',\n",
    "                 'sportshall', 'forest', 'AVM_pris']\n",
    "\n",
    "    for col in list_drop:\n",
    "        del raw[col]\n",
    "\n",
    "    df_slimmed = raw\n",
    "\n",
    "    return df_slimmed\n",
    "\n",
    "def second_drop(df):\n",
    "\n",
    "    second_slim = df\n",
    "\n",
    "    list_drop = ['address.latestForSale.address', 'address.latestForSale.streetName',\n",
    "                 'address.latestForSale.houseNumber', 'address.latestForSale.postal', 'address.latestForSale.city',\n",
    "                 'bbrData.mostImportantBuilding.municipalityName', 'address.latestForSale.mapPosition.latLng.lat',\n",
    "                 'address.latestForSale.mapPosition.latLng.lng']\n",
    "\n",
    "    for col in list_drop:\n",
    "        del second_slim[col]\n",
    "\n",
    "    return second_slim\n",
    "\n",
    "\n",
    "def reorder(df):\n",
    "\n",
    "    # divided by: address, salesrelated, physical characteristics, environment/society, distances\n",
    "\n",
    "    df_reordered = df[['address.address', 'address.latestForSale.address', 'address.street',\n",
    "                       'address.latestForSale.streetName', 'address.streetName', 'address.latestForSale.houseNumber',\n",
    "                       'address.postalId', 'address.latestForSale.postal', 'address.city',\n",
    "                       'address.latestForSale.city', 'bbrData.mostImportantBuilding.municipalityName',\n",
    "                       'address.mapPosition.latLng.lat', 'address.mapPosition.latLng.lng',\n",
    "                       'address.latestForSale.mapPosition.latLng.lat', 'address.latestForSale.mapPosition.latLng.lng',\n",
    "                       'address.latestValuation.valuationYear',\n",
    "                       'address.latestValuation.valuationDate', 'address.latestValuation.parcelValuation',\n",
    "                       'address.latestValuation.propertyValuation', 'address.latestSale.salePrice',\n",
    "                       'address.latestForSale.paymentGross', 'address.latestForSale.paymentCash',\n",
    "                       'address.latestForSale.downPayment', 'address.latestForSale.paymentNet',\n",
    "                       'address.latestForSale.paymentExpenses', 'address.latestSale.saleType',\n",
    "                       'address.latestSale.salesYear', 'address.latestForSale.priceDevelopment',\n",
    "                       'address.latestForSale.priceDevelopmentHistoric', 'address.latestForSale.propertyCharges',\n",
    "                       'address.latestForSale.usageExpenses', 'address.latestSale.saleDate',\n",
    "                       'address.latestForSale.dateAnnounced', 'address.latestForSale.dateAdded',\n",
    "                       'address.latestForSale.dateRemoved', 'address.latestForSale.salesPeriod',\n",
    "                       'address.latestForSale.salesPeriodTotal', 'AVM_pris',\n",
    "                       'address.itemTypeName', 'address.latestForSale.itemTypeName',\n",
    "                       'bbrData.mostImportantUnit.propertyType.content',\n",
    "                       'bbrData.mostImportantBuilding.ownership.content', 'Anvendelse',\n",
    "                       'bbrData.mostImportantUnit.unitUsage.content', 'address.buildYear',\n",
    "                       'address.latestForSale.buildYear', 'bbrData.mostImportantBuilding.buildYear',\n",
    "                       'Opførselsesår', 'address.rebuildYear', 'address.latestForSale.rebuildYear',\n",
    "                       'bbrData.mostImportantBuilding.rebuildYear', 'Ombygningsår',\n",
    "                       'bbrData.mostImportantBuilding.conservation.content', 'Fredning', 'Bevaringsværdig',\n",
    "                       'address.latestForSale.area', 'bbrData.mostImportantBuilding.buildingAreaTotal',\n",
    "                       'Bygning, Samlet areal', 'bbrData.mostImportantBuilding.builtAreaTotal',\n",
    "                       'address.latestForSale.areaResidential', 'bbrData.mostImportantUnit.residentialArea',\n",
    "                       'bbrData.mostImportantBuilding.residentialAreaTotal', 'Boligstørrelse',\n",
    "                       'address.latestForSale.areaParcel', 'address.latestForSale.areaBasement', 'Kælder',\n",
    "                       'address.latestForSale.areaWeighted', 'Vægtet Areal', 'address.latestForSale.areaPaymentCash',\n",
    "                       'bbrData.mostImportantUnit.unitAreaTotal', 'address.latestForSale.numberOfFloors',\n",
    "                       'bbrData.mostImportantBuilding.numberOfFloors', 'Antal Etager', 'address.latestForSale.floor',\n",
    "                       'address.latestForSale.floorName', 'bbrData.units',\n",
    "                       'bbrData.mostImportantBuilding.buildingNumber',\n",
    "                       'bbrData.mostImportantBuilding.buildingUsage.content',\n",
    "                       'address.latestForSale.numberOfRooms', 'bbrData.mostImportantUnit.numberOfRooms',\n",
    "                       'Antal værelser', 'bbrData.mostImportantUnit.toilet.content', 'Antal toiletter',\n",
    "                       'bbrData.mostImportantUnit.bath.content','bbrData.mostImportantUnit.numberOfFlushToilets',\n",
    "                       'bbrData.mostImportantUnit.numberOfBathrooms', 'bbrData.mostImportantUnit.kitchen.content',\n",
    "                       'Køkkenforhold', 'bbrData.mostImportantBuilding.exteriorWallMaterial.content',\n",
    "                       'Ydervægsmateriale', 'bbrData.mostImportantBuilding.roofingMaterial.content', 'Tagmateriale',\n",
    "                       'bbrData.mostImportantBuilding.supplementaryWallMaterial.content',\n",
    "                       'bbrData.mostImportantBuilding.supplementaryRoofingMaterial.content',\n",
    "                       'bbrData.mostImportantBuilding.asbestosMaterial.content',\n",
    "                       'bbrData.mostImportantBuilding.materialSource.content',\n",
    "                       'bbrData.mostImportantBuilding.heatingInstallation.content', 'Varmeinstallation',\n",
    "                       'bbrData.mostImportantBuilding.heating.content',\n",
    "                       'bbrData.mostImportantBuilding.supplementaryHeating.content',\n",
    "                       'bbrData.mostImportantBuilding.buildingWaterSupply.content',\n",
    "                       'bbrData.mostImportantBuilding.buildingDrain.content',\n",
    "                       'address.energyMark', 'address.latestForSale.energyMark',\n",
    "                       'bbrData.mostImportantUnit.energy.code', 'bbrData.mostImportantUnit.energy.content',\n",
    "                       'Energimærke', 'address.environmentData.radonRiskCategory', 'Radonrisiko', 'Støjmåling',\n",
    "                       'Oversvømmelsesrisiko_skybrud', 'Meter_over_havet',\n",
    "                       'address.environmentData.drinkingWaterHardnessCategory',\n",
    "                       'address.environmentData.breakInStatistic.municipalityAverage',\n",
    "                       'address.environmentData.breakInStatistic.countyAverage',\n",
    "                       'address.environmentData.breakInStatistic.countryAverage',\n",
    "                       'address.environmentData.breakInStatistic.riskCategory', 'Indbrudsrisiko',\n",
    "                       'Største_parti', 'Valgdeltagelse', 'Afstemningsområde', 'school', 'roadtrain', 'junction',\n",
    "                       'daycare', 'metro', 'doctor', 'soccerfield', 'hospital', 'stop', 'lake', 'supermarket',\n",
    "                       'pharmacy', 'strain','airport', 'train', 'library', 'publicbath', 'coast', 'sportshall',\n",
    "                       'forest']]\n",
    "\n",
    "    return df_reordered\n",
    "\n"
   ]
  },
  {
   "cell_type": "markdown",
   "metadata": {},
   "source": [
    "* ## Rough data cleaning"
   ]
  },
  {
   "cell_type": "code",
   "execution_count": 825,
   "metadata": {},
   "outputs": [
    {
     "name": "stderr",
     "output_type": "stream",
     "text": [
      "/Users/frederikmadsen/PycharmProjects/Thesis/venv/lib/python3.9/site-packages/IPython/core/interactiveshell.py:3165: DtypeWarning: Columns (35,86,159,168,172,175,205,277,278,279,280,281,282,283,284,285,286,287,288) have mixed types.Specify dtype option on import or set low_memory=False.\n",
      "  has_raised = await self.run_ast_nodes(code_ast.body, cell_name,\n"
     ]
    },
    {
     "name": "stdout",
     "output_type": "stream",
     "text": [
      "Shape before (40606, 289)\n"
     ]
    }
   ],
   "source": [
    "raw_data = pd.read_csv(\"raw_data_1.csv\")\n",
    "\n",
    "print(\"Shape before\", raw_data.shape)"
   ]
  },
  {
   "cell_type": "code",
   "execution_count": 826,
   "metadata": {
    "scrolled": true
   },
   "outputs": [
    {
     "data": {
      "text/plain": [
       "address.environmentData.serviceStatus.errorText                                          40606\n",
       "address.latestForSale.descriptionHeadline                                                40606\n",
       "address.latestForSale.placeName                                                          40606\n",
       "address.latestForSale.placeNameSeparator                                                 40606\n",
       "address.latestForSale.agentChainName                                                     40606\n",
       "address.latestForSale.agentId                                                            40606\n",
       "address.latestForSale.redirectLink                                                       40606\n",
       "address.latestForSale.comment                                                            40606\n",
       "address.latestForSale.rentalLink                                                         40606\n",
       "address.latestForSale.propertyPartiallyOwnedFinancialData                                40606\n",
       "address.latestForSale.videoRedirectLink                                                  40606\n",
       "address.latestForSale.openHouseRedirectLink                                              40606\n",
       "address.latestForSale.rating.ratings.conditionRating                                     40606\n",
       "address.latestForSale.rating.ratings.kitchenRating                                       40606\n",
       "address.latestForSale.rating.ratings.locationRating                                      40606\n",
       "address.latestForSale.rating.ratings.bathRating                                          40606\n",
       "address.latestForSale.rating.averageRating                                               40606\n",
       "address.latestForSale.rating.roundAverageRating                                          40606\n",
       "address.latestForSale.label                                                              40606\n",
       "bbrData.mostImportantBuilding                                                            40606\n",
       "bbrData.areaWeighted                                                                     40606\n",
       "address.latestForSale                                                                    40606\n",
       "address.latestForSale.mapPosition.latLng                                                 40606\n",
       "bbrData.mostImportantUnit                                                                40606\n",
       "bbrData                                                                                  40606\n",
       "address.environmentData.breakInStatistic                                                 40606\n",
       "address.latestValuation                                                                  40606\n",
       "address.mapPosition.latLng                                                               40606\n",
       "address.latestSale                                                                       40606\n",
       "address.latestForSale.propertyPartiallyOwnedFinancialData.purchasePrice                  40602\n",
       "address.latestForSale.propertyPartiallyOwnedFinancialData.maximumPriceRatio              40602\n",
       "address.latestForSale.propertyPartiallyOwnedFinancialData.maximumPrice                   40602\n",
       "address.latestForSale.propertyPartiallyOwnedFinancialData.housingAssociationDebtShare    40602\n",
       "address.latestForSale.propertyPartiallyOwnedFinancialData.housingAssociationDebt         40602\n",
       "address.latestForSale.propertyPartiallyOwnedFinancialData.financingInformation           40602\n",
       "address.latestForSale.propertyPartiallyOwnedFinancialData.expenseNet                     40602\n",
       "address.latestForSale.propertyPartiallyOwnedFinancialData.expenseGross                   40602\n",
       "address.latestForSale.propertyPartiallyOwnedFinancialData.estimatedTechnicalPrice        40602\n",
       "address.latestForSale.propertyPartiallyOwnedFinancialData.estimatedTechnicalAreaPrice    40602\n",
       "address.latestForSale.propertyPartiallyOwnedFinancialData.downPayment                    40602\n",
       "address.latestForSale.propertyPartiallyOwnedFinancialData.distributionRatio              40602\n",
       "Kælder                                                                                   37487\n",
       "address.energyMark                                                                       36818\n",
       "bbrData.buildings                                                                        35935\n",
       "bbrData.mostImportantBuilding.buildingNumber                                             35935\n",
       "bbrData.mostImportantBuilding.buildYear                                                  35935\n",
       "bbrData.mostImportantBuilding.rebuildYear                                                35935\n",
       "bbrData.mostImportantBuilding.conservation.code                                          35935\n",
       "bbrData.mostImportantBuilding.conservation.content                                       35935\n",
       "bbrData.mostImportantBuilding.numberOfFloors                                             35935\n",
       "dtype: int64"
      ]
     },
     "execution_count": 826,
     "metadata": {},
     "output_type": "execute_result"
    }
   ],
   "source": [
    "raw_data.isna().sum().nlargest(50)"
   ]
  },
  {
   "cell_type": "code",
   "execution_count": 827,
   "metadata": {},
   "outputs": [
    {
     "name": "stdout",
     "output_type": "stream",
     "text": [
      "Shape after (40606, 143)\n"
     ]
    }
   ],
   "source": [
    "# # Removing empty and unneccesary variables\n",
    "raw_slimmed = remove_variables(raw_data)\n",
    "\n",
    "print(\"Shape after\", raw_slimmed.shape)"
   ]
  },
  {
   "cell_type": "code",
   "execution_count": 828,
   "metadata": {
    "scrolled": true
   },
   "outputs": [
    {
     "data": {
      "text/plain": [
       "Kælder                                                                37487\n",
       "address.energyMark                                                    36818\n",
       "bbrData.mostImportantBuilding.buildingNumber                          35935\n",
       "bbrData.mostImportantBuilding.heatingInstallation.content             35935\n",
       "bbrData.mostImportantBuilding.numberOfFloors                          35935\n",
       "bbrData.mostImportantBuilding.buildingUsage.content                   35935\n",
       "bbrData.mostImportantBuilding.residentialAreaTotal                    35935\n",
       "bbrData.mostImportantBuilding.buildingAreaTotal                       35935\n",
       "bbrData.mostImportantBuilding.exteriorWallMaterial.content            35935\n",
       "bbrData.mostImportantBuilding.roofingMaterial.content                 35935\n",
       "bbrData.mostImportantBuilding.supplementaryWallMaterial.content       35935\n",
       "bbrData.mostImportantBuilding.supplementaryRoofingMaterial.content    35935\n",
       "bbrData.mostImportantBuilding.asbestosMaterial.content                35935\n",
       "bbrData.mostImportantBuilding.materialSource.content                  35935\n",
       "bbrData.mostImportantBuilding.builtAreaTotal                          35935\n",
       "bbrData.mostImportantBuilding.heating.content                         35935\n",
       "bbrData.mostImportantBuilding.municipalityName                        35935\n",
       "bbrData.mostImportantBuilding.supplementaryHeating.content            35935\n",
       "bbrData.mostImportantBuilding.rebuildYear                             35935\n",
       "bbrData.mostImportantBuilding.conservation.content                    35935\n",
       "bbrData.mostImportantBuilding.buildYear                               35935\n",
       "bbrData.mostImportantBuilding.ownership.content                       35935\n",
       "bbrData.mostImportantBuilding.buildingDrain.content                   35935\n",
       "bbrData.mostImportantBuilding.buildingWaterSupply.content             35935\n",
       "Energimærke                                                           11370\n",
       "address.latestForSale.floorName                                        9440\n",
       "address.latestForSale.energyMark                                       6935\n",
       "address.latestForSale.mapPosition.latLng.lng                           6099\n",
       "address.latestForSale.mapPosition.latLng.lat                           6099\n",
       "address.latestForSale.houseNumber                                      5057\n",
       "address.latestForSale.areaResidential                                  5056\n",
       "address.latestForSale.areaPaymentCash                                  5056\n",
       "address.latestForSale.areaParcel                                       5056\n",
       "address.latestForSale.areaBasement                                     5056\n",
       "address.latestForSale.areaWeighted                                     5056\n",
       "address.latestForSale.dateAnnounced                                    5056\n",
       "address.latestForSale.numberOfFloors                                   5056\n",
       "address.latestForSale.floor                                            5056\n",
       "address.latestForSale.dateAdded                                        5056\n",
       "address.latestForSale.dateRemoved                                      5056\n",
       "address.latestForSale.rebuildYear                                      5056\n",
       "address.latestForSale.salesPeriodTotal                                 5056\n",
       "address.latestForSale.area                                             5056\n",
       "address.latestForSale.itemTypeName                                     5056\n",
       "address.latestForSale.salesPeriod                                      5056\n",
       "address.latestForSale.paymentExpenses                                  5056\n",
       "address.latestForSale.buildYear                                        5056\n",
       "address.latestForSale.priceDevelopment                                 5056\n",
       "address.latestForSale.priceDevelopmentHistoric                         5056\n",
       "address.latestForSale.propertyCharges                                  5056\n",
       "address.latestForSale.usageExpenses                                    5056\n",
       "address.latestForSale.paymentGross                                     5056\n",
       "address.latestForSale.numberOfRooms                                    5056\n",
       "address.latestForSale.paymentNet                                       5056\n",
       "address.latestForSale.address                                          5056\n",
       "address.latestForSale.streetName                                       5056\n",
       "address.latestForSale.city                                             5056\n",
       "address.latestForSale.postal                                           5056\n",
       "address.latestForSale.paymentCash                                      5056\n",
       "address.latestForSale.downPayment                                      5056\n",
       "Største_parti                                                          2564\n",
       "Valgdeltagelse                                                         2564\n",
       "Afstemningsområde                                                      2564\n",
       "bbrData.mostImportantUnit.numberOfBathrooms                            1768\n",
       "bbrData.units                                                          1768\n",
       "bbrData.mostImportantUnit.numberOfFlushToilets                         1768\n",
       "bbrData.mostImportantUnit.energy.code                                  1768\n",
       "bbrData.mostImportantUnit.energy.content                               1768\n",
       "bbrData.mostImportantUnit.propertyType.content                         1768\n",
       "bbrData.mostImportantUnit.kitchen.content                              1768\n",
       "bbrData.mostImportantUnit.toilet.content                               1768\n",
       "bbrData.mostImportantUnit.numberOfRooms                                1768\n",
       "bbrData.mostImportantUnit.residentialArea                              1768\n",
       "bbrData.mostImportantUnit.unitAreaTotal                                1768\n",
       "bbrData.mostImportantUnit.bath.content                                 1768\n",
       "bbrData.mostImportantUnit.unitUsage.content                            1768\n",
       "address.latestValuation.parcelValuation                                 985\n",
       "address.latestValuation.valuationYear                                   985\n",
       "address.latestValuation.valuationDate                                   985\n",
       "address.latestValuation.valuationDateString                             985\n",
       "address.latestValuation.propertyValuation                               985\n",
       "Vægtet Areal                                                            679\n",
       "Bygning, Samlet areal                                                   678\n",
       "Boligstørrelse                                                          678\n",
       "address.environmentData.breakInStatistic.riskCategory                   549\n",
       "address.environmentData.breakInStatistic.countryAverage                 549\n",
       "address.environmentData.breakInStatistic.countyAverage                  549\n",
       "address.environmentData.breakInStatistic.municipalityAverage            549\n",
       "AVM_pris                                                                191\n",
       "address.mapPosition.latLng.lng                                          122\n",
       "address.mapPosition.latLng.lat                                          122\n",
       "address.latestSale.salePrice                                             25\n",
       "address.latestSale.saleDate                                              25\n",
       "address.latestSale.salesYear                                             25\n",
       "address.latestSale.saleType                                              25\n",
       "Varmeinstallation                                                         6\n",
       "Antal værelser                                                            6\n",
       "Tagmateriale                                                              6\n",
       "Ydervægsmateriale                                                         6\n",
       "Anvendelse                                                                6\n",
       "Opførselsesår                                                             6\n",
       "Ombygningsår                                                              6\n",
       "Fredning                                                                  6\n",
       "Køkkenforhold                                                             6\n",
       "Antal Etager                                                              6\n",
       "Antal toiletter                                                           6\n",
       "Antal badeværelser                                                        6\n",
       "sportshall                                                                0\n",
       "train                                                                     0\n",
       "doctor                                                                    0\n",
       "metro                                                                     0\n",
       "library                                                                   0\n",
       "publicbath                                                                0\n",
       "coast                                                                     0\n",
       "lake                                                                      0\n",
       "soccerfield                                                               0\n",
       "hospital                                                                  0\n",
       "stop                                                                      0\n",
       "airport                                                                   0\n",
       "strain                                                                    0\n",
       "pharmacy                                                                  0\n",
       "junction                                                                  0\n",
       "supermarket                                                               0\n",
       "daycare                                                                   0\n",
       "address.address                                                           0\n",
       "roadtrain                                                                 0\n",
       "school                                                                    0\n",
       "address.rebuildYear                                                       0\n",
       "address.postalId                                                          0\n",
       "address.city                                                              0\n",
       "address.street                                                            0\n",
       "address.streetName                                                        0\n",
       "address.itemTypeName                                                      0\n",
       "address.environmentData.radonRiskCategory                                 0\n",
       "address.environmentData.drinkingWaterHardnessCategory                     0\n",
       "address.buildYear                                                         0\n",
       "Radonrisiko                                                               0\n",
       "Støjmåling                                                                0\n",
       "Oversvømmelsesrisiko_skybrud                                              0\n",
       "Meter_over_havet                                                          0\n",
       "Indbrudsrisiko                                                            0\n",
       "Bevaringsværdig                                                           0\n",
       "forest                                                                    0\n",
       "dtype: int64"
      ]
     },
     "execution_count": 828,
     "metadata": {},
     "output_type": "execute_result"
    }
   ],
   "source": [
    "raw_slimmed.isna().sum().nlargest(143)"
   ]
  },
  {
   "cell_type": "code",
   "execution_count": 829,
   "metadata": {},
   "outputs": [
    {
     "name": "stdout",
     "output_type": "stream",
     "text": [
      "(40606, 133)\n"
     ]
    }
   ],
   "source": [
    "# # Reordering columns\n",
    "slimmed_ordered = reorder(raw_slimmed)\n",
    "\n",
    "# # Second drop, with removal of variables that have full data counterparts\n",
    "slimmed_ordered = second_drop(slimmed_ordered)\n",
    "\n",
    "print(slimmed_ordered.shape)"
   ]
  },
  {
   "cell_type": "code",
   "execution_count": 830,
   "metadata": {
    "scrolled": false
   },
   "outputs": [
    {
     "name": "stdout",
     "output_type": "stream",
     "text": [
      "\\begin{tabular}{lr}\n",
      "\\toprule\n",
      "{} &  address.latestSale.saleType \\\\\n",
      "\\midrule\n",
      "Fri handel    &                        35929 \\\\\n",
      "Familiehandel &                         4255 \\\\\n",
      "I øvrigt      &                          358 \\\\\n",
      "Auktion       &                           39 \\\\\n",
      "\\bottomrule\n",
      "\\end{tabular}\n",
      "\n"
     ]
    }
   ],
   "source": [
    "# # \"Fri Handel\" is not the whole data set\n",
    "\n",
    "print(slimmed_ordered.loc[:,'address.latestSale.saleType'].value_counts().to_latex(index=True))"
   ]
  },
  {
   "cell_type": "code",
   "execution_count": 831,
   "metadata": {},
   "outputs": [
    {
     "name": "stdout",
     "output_type": "stream",
     "text": [
      "(35929, 132)\n"
     ]
    }
   ],
   "source": [
    "# # Slim down to only salestype 'Fri handel'\n",
    "\n",
    "cleaning = slimmed_ordered.loc[slimmed_ordered['address.latestSale.saleType'] == 'Fri handel',].copy()\n",
    "cleaning.drop(['address.latestSale.saleType'], axis=1, inplace=True)\n",
    "\n",
    "print(cleaning.shape)\n",
    "\n",
    "#We go from 40606 to 35929, due to salestypes such as 'Familiehandel'\n",
    "    \n",
    "# # cleaning.to_csv('cleaning_1.csv', index=False)"
   ]
  },
  {
   "cell_type": "markdown",
   "metadata": {},
   "source": [
    "* ## Fine data cleaning"
   ]
  },
  {
   "cell_type": "code",
   "execution_count": 832,
   "metadata": {
    "scrolled": true
   },
   "outputs": [],
   "source": [
    "#cleaning = pd.read_csv(\"cleaning_1.csv\")\n",
    "cleaning.replace('-', np.nan, inplace=True)\n",
    "#cleaning.to_csv('cleaning.csv', index=False)"
   ]
  },
  {
   "cell_type": "markdown",
   "metadata": {},
   "source": [
    "* ### Address variables"
   ]
  },
  {
   "cell_type": "code",
   "execution_count": 833,
   "metadata": {},
   "outputs": [],
   "source": [
    "cleaning['address.address'] = cleaning['address.address'].astype(str)\n",
    "cleaning['address.street'] = cleaning['address.street'].astype(str)\n",
    "cleaning['address.streetName'] = cleaning['address.streetName'].astype(str)\n",
    "cleaning['address.postalId'] = cleaning['address.postalId'].astype(int)\n",
    "cleaning['address.city'] = cleaning['address.city'].astype(str)\n",
    "\n",
    "# There are no missing values for these variables"
   ]
  },
  {
   "cell_type": "markdown",
   "metadata": {},
   "source": [
    "* ### Sale date variables"
   ]
  },
  {
   "cell_type": "code",
   "execution_count": 834,
   "metadata": {},
   "outputs": [],
   "source": [
    "# # Converting data types\n",
    "cleaning['address.latestSale.salesYear'] = cleaning['address.latestSale.salesYear'].astype(int)\n",
    "cleaning['address.latestSale.saleDate'] = pd.to_datetime(cleaning['address.latestSale.saleDate'],\n",
    "                                          format='%d-%m-%Y', errors='coerce')\n",
    "cleaning['address.latestForSale.dateAnnounced'] = pd.to_datetime(cleaning['address.latestForSale.dateAnnounced'],\n",
    "                                                  format='%d-%m-%Y', errors='coerce')\n",
    "cleaning['address.latestForSale.dateAdded'] = pd.to_datetime(cleaning['address.latestForSale.dateAdded'],\n",
    "                                              format='%d-%m-%Y', errors='coerce')\n",
    "cleaning['address.latestForSale.dateRemoved'] = pd.to_datetime(cleaning['address.latestForSale.dateRemoved'],\n",
    "                                                format='%d-%m-%Y', errors='coerce')\n",
    "cleaning['address.latestForSale.salesPeriod'] = cleaning['address.latestForSale.salesPeriod'].astype(float)\n",
    "cleaning['address.latestForSale.salesPeriodTotal'] = cleaning['address.latestForSale.salesPeriodTotal'].astype(float)"
   ]
  },
  {
   "cell_type": "code",
   "execution_count": 835,
   "metadata": {},
   "outputs": [],
   "source": [
    "pd.set_option('display.max_columns', None)\n",
    "pd.set_option('display.max_rows', None)\n",
    "pd.set_option('display.max_colwidth', None)"
   ]
  },
  {
   "cell_type": "code",
   "execution_count": 836,
   "metadata": {},
   "outputs": [],
   "source": [
    "# # From now on loading the csv-file will require parsing dates\n",
    "\n",
    "# cleaning.to_csv('cleaning.csv', index=False)\n",
    "# cleaning = pd.read_csv(\"cleaning.csv\", parse_dates=['address.latestSale.saleDate',\n",
    "#                                                    'address.latestForSale.dateAnnounced',\n",
    "#                                                    'address.latestForSale.dateAdded',\n",
    "#                                                    'address.latestForSale.dateRemoved'])"
   ]
  },
  {
   "cell_type": "code",
   "execution_count": 837,
   "metadata": {},
   "outputs": [],
   "source": [
    "# # Create variables that also could specify the salesperiod if period missing\n",
    "    \n",
    "cleaning['AddedRemoved'] = (cleaning['address.latestForSale.dateRemoved'] \\\n",
    "                            - cleaning['address.latestForSale.dateAdded']).dt.days\n",
    "cleaning['AnnouncedRemoved'] = (cleaning['address.latestForSale.dateRemoved'] \\\n",
    "                                - cleaning['address.latestForSale.dateAnnounced']).dt.days\n",
    "    \n",
    "# # Let SalesPeriodTotal have priority, then SalesPeriod, then AddedRemoved, then AnnouncedRemoved\n",
    "\n",
    "cleaning['SalesPeriod'] = cleaning['address.latestForSale.salesPeriodTotal'].combine_first(cleaning[ \\\n",
    "                        'address.latestForSale.salesPeriod'])\n",
    "cleaning['SalesPeriod'] = cleaning['SalesPeriod'].combine_first(cleaning['AddedRemoved'])\n",
    "cleaning['SalesPeriod'] = cleaning['SalesPeriod'].combine_first(cleaning['AnnouncedRemoved'])\n"
   ]
  },
  {
   "cell_type": "code",
   "execution_count": 838,
   "metadata": {},
   "outputs": [],
   "source": [
    "# # There are still 3381 addresses that are missing SalesPeriod, and these are deleted since deemed important.\n",
    "# # This reduces the data set to 32548 addresses.\n",
    "   \n",
    "cleaning = cleaning[~cleaning['SalesPeriod'].isna()]\n",
    "cleaning.drop(['address.latestForSale.dateAnnounced', 'address.latestForSale.dateAdded',\n",
    "               'address.latestForSale.dateRemoved', 'address.latestForSale.salesPeriod',\n",
    "               'address.latestForSale.salesPeriodTotal', 'address.latestForSale.salesPeriodTotal',\n",
    "               'AddedRemoved', 'AnnouncedRemoved'], axis=1, inplace=True)"
   ]
  },
  {
   "cell_type": "markdown",
   "metadata": {},
   "source": [
    "* ### Price and payments variables"
   ]
  },
  {
   "cell_type": "code",
   "execution_count": 839,
   "metadata": {},
   "outputs": [
    {
     "name": "stderr",
     "output_type": "stream",
     "text": [
      "<ipython-input-839-e818cf2ba304>:11: FutureWarning: The default value of regex will change from True to False in a future version. In addition, single character regular expressions will*not* be treated as literal strings when regex=True.\n",
      "  cleaning['address.latestSale.salePrice'] = cleaning['address.latestSale.salePrice'].str.replace('.','').astype(float)\n",
      "<ipython-input-839-e818cf2ba304>:12: FutureWarning: The default value of regex will change from True to False in a future version. In addition, single character regular expressions will*not* be treated as literal strings when regex=True.\n",
      "  cleaning['address.latestForSale.paymentCash'] = cleaning['address.latestForSale.paymentCash'].str.replace('.',\n",
      "<ipython-input-839-e818cf2ba304>:14: FutureWarning: The default value of regex will change from True to False in a future version. In addition, single character regular expressions will*not* be treated as literal strings when regex=True.\n",
      "  cleaning['AVM_pris'] = cleaning['AVM_pris'].str.replace('.','').astype(float)\n"
     ]
    }
   ],
   "source": [
    "# # Delete all unnecesary variables\n",
    "\n",
    "cleaning.drop(['address.latestForSale.paymentGross', 'address.latestForSale.downPayment',\n",
    "               'address.latestForSale.paymentNet', 'address.latestForSale.paymentExpenses',\n",
    "               'address.latestForSale.priceDevelopment', 'address.latestForSale.priceDevelopmentHistoric',\n",
    "               'address.latestForSale.propertyCharges', 'address.latestForSale.usageExpenses'], axis=1, inplace=True)\n",
    "\n",
    "# # Saleprice, cashprice, saledate, and AVM are kept (even though 4640 AVM-values missing)\n",
    "\n",
    "cleaning.replace(' - ', np.nan, inplace=True)\n",
    "cleaning['address.latestSale.salePrice'] = cleaning['address.latestSale.salePrice'].str.replace('.','').astype(float)\n",
    "cleaning['address.latestForSale.paymentCash'] = cleaning['address.latestForSale.paymentCash'].str.replace('.',\n",
    "                                                '').astype(float)\n",
    "cleaning['AVM_pris'] = cleaning['AVM_pris'].str.replace('.','').astype(float)\n"
   ]
  },
  {
   "cell_type": "markdown",
   "metadata": {},
   "source": [
    "* ### Valuation variables"
   ]
  },
  {
   "cell_type": "code",
   "execution_count": 840,
   "metadata": {},
   "outputs": [
    {
     "name": "stderr",
     "output_type": "stream",
     "text": [
      "<ipython-input-840-6ba18bead9b2>:11: FutureWarning: The default value of regex will change from True to False in a future version. In addition, single character regular expressions will*not* be treated as literal strings when regex=True.\n",
      "  = cleaning['address.latestValuation.propertyValuation'].str.replace('.', '').astype(float)\n"
     ]
    }
   ],
   "source": [
    "# # Delete all unnecessary variables (parcel valuation redundant, and year included in date)\n",
    "\n",
    "cleaning.drop(['address.latestValuation.parcelValuation',\n",
    "               'address.latestValuation.valuationYear'], axis=1, inplace=True)\n",
    "\n",
    "# # Delete 307 observations, where no valuation, which is deemed too important.\n",
    "# # This leaves 32241 addresses.\n",
    "\n",
    "cleaning = cleaning[~cleaning['address.latestValuation.propertyValuation'].isna()]\n",
    "cleaning['address.latestValuation.propertyValuation'] \\\n",
    "        = cleaning['address.latestValuation.propertyValuation'].str.replace('.', '').astype(float)\n",
    "cleaning['address.latestValuation.valuationDate'] \\\n",
    "        = pd.to_datetime(cleaning['address.latestValuation.valuationDate'], errors='coerce')\n"
   ]
  },
  {
   "cell_type": "code",
   "execution_count": 841,
   "metadata": {},
   "outputs": [],
   "source": [
    "# # From now on loading the csv-file will require parsing dates\n",
    "\n",
    "# cleaning.to_csv('cleaning.csv', index=False)\n",
    "# cleaning = pd.read_csv(\"cleaning.csv\", parse_dates=['address.latestSale.saleDate',\n",
    "#                                                    'address.latestValuation.valuationDate'])"
   ]
  },
  {
   "cell_type": "markdown",
   "metadata": {},
   "source": [
    "* ### Type and conservation variables"
   ]
  },
  {
   "cell_type": "code",
   "execution_count": 842,
   "metadata": {
    "scrolled": true
   },
   "outputs": [
    {
     "name": "stdout",
     "output_type": "stream",
     "text": [
      "\\begin{tabular}{lrrrrrrr}\n",
      "\\toprule\n",
      "address.itemTypeName &  Andelsbolig &  Ejerlejlighed &  Helårsgrund &  Rækkehus &  Rækkehus / ejerlejlighed &  Villa &  Villa / helårsgrund \\\\\n",
      "address.latestForSale.itemTypeName &              &                &              &           &                           &        &                      \\\\\n",
      "\\midrule\n",
      "Andelsbolig                        &            1 &              2 &            0 &         1 &                         0 &      0 &                    0 \\\\\n",
      "Ejerlejlighed                      &            3 &          27926 &            0 &         2 &                         0 &      0 &                    0 \\\\\n",
      "Ejerlejlighed / fritidsbolig       &            0 &              4 &            0 &         0 &                         0 &      0 &                    0 \\\\\n",
      "Ejerlejlighed / rækkehus           &            0 &             13 &            0 &         0 &                         1 &      0 &                    0 \\\\\n",
      "Ejerlejlighed / villa              &            0 &              4 &            0 &         0 &                         0 &      0 &                    0 \\\\\n",
      "Ejerlejlighed / villalejlighed     &            0 &             20 &            0 &         0 &                         0 &      0 &                    0 \\\\\n",
      "Helårsgrund                        &            0 &              0 &            2 &         0 &                         0 &      4 &                    0 \\\\\n",
      "Helårsgrund / villa                &            0 &              0 &            0 &         0 &                         0 &      1 &                    0 \\\\\n",
      "Rækkehus                           &            1 &            284 &            0 &       949 &                         0 &      1 &                    0 \\\\\n",
      "Rækkehus / ejerlejlighed           &            0 &              7 &            0 &         2 &                         2 &      0 &                    0 \\\\\n",
      "Rækkehus / villa                   &            0 &              3 &            0 &         4 &                         0 &      0 &                    0 \\\\\n",
      "Villa                              &            0 &             40 &            0 &       400 &                         0 &   2453 &                    0 \\\\\n",
      "Villa / ejerlejlighed              &            0 &              1 &            0 &         7 &                         0 &      0 &                    0 \\\\\n",
      "Villa / helårsgrund                &            0 &              0 &            0 &         0 &                         0 &     17 &                    1 \\\\\n",
      "Villa / rækkehus                   &            0 &              0 &            0 &         4 &                         0 &      0 &                    0 \\\\\n",
      "Villa / villalejlighed             &            0 &              0 &            0 &         1 &                         0 &      0 &                    0 \\\\\n",
      "Villalejlighed                     &            0 &             65 &            0 &         6 &                         0 &      5 &                    0 \\\\\n",
      "Villalejlighed / ejerlejlighed     &            0 &              2 &            0 &         0 &                         0 &      0 &                    0 \\\\\n",
      "Villalejlighed / villa             &            0 &              2 &            0 &         0 &                         0 &      0 &                    0 \\\\\n",
      "\\bottomrule\n",
      "\\end{tabular}\n",
      "\n"
     ]
    }
   ],
   "source": [
    "print(pd.crosstab(cleaning['address.latestForSale.itemTypeName'], cleaning['address.itemTypeName'],\n",
    "                  margins = False).to_latex(index=True))  \n"
   ]
  },
  {
   "cell_type": "code",
   "execution_count": 843,
   "metadata": {
    "scrolled": true
   },
   "outputs": [
    {
     "data": {
      "text/plain": [
       "address.itemTypeName      address.latestForSale.itemTypeName\n",
       "Andelsbolig               Andelsbolig                               1\n",
       "                          Ejerlejlighed                             3\n",
       "                          Rækkehus                                  1\n",
       "Ejerlejlighed             Andelsbolig                               2\n",
       "                          Ejerlejlighed                         27926\n",
       "                          Ejerlejlighed / fritidsbolig              4\n",
       "                          Ejerlejlighed / rækkehus                 13\n",
       "                          Ejerlejlighed / villa                     4\n",
       "                          Ejerlejlighed / villalejlighed           20\n",
       "                          Rækkehus                                284\n",
       "                          Rækkehus / ejerlejlighed                  7\n",
       "                          Rækkehus / villa                          3\n",
       "                          Villa                                    40\n",
       "                          Villa / ejerlejlighed                     1\n",
       "                          Villalejlighed                           65\n",
       "                          Villalejlighed / ejerlejlighed            2\n",
       "                          Villalejlighed / villa                    2\n",
       "Helårsgrund               Helårsgrund                               2\n",
       "Rækkehus                  Andelsbolig                               1\n",
       "                          Ejerlejlighed                             2\n",
       "                          Rækkehus                                949\n",
       "                          Rækkehus / ejerlejlighed                  2\n",
       "                          Rækkehus / villa                          4\n",
       "                          Villa                                   400\n",
       "                          Villa / ejerlejlighed                     7\n",
       "                          Villa / rækkehus                          4\n",
       "                          Villa / villalejlighed                    1\n",
       "                          Villalejlighed                            6\n",
       "Rækkehus / ejerlejlighed  Ejerlejlighed / rækkehus                  1\n",
       "                          Rækkehus / ejerlejlighed                  2\n",
       "Villa                     Helårsgrund                               4\n",
       "                          Helårsgrund / villa                       1\n",
       "                          Rækkehus                                  1\n",
       "                          Villa                                  2453\n",
       "                          Villa / helårsgrund                      17\n",
       "                          Villalejlighed                            5\n",
       "Villa / helårsgrund       Villa / helårsgrund                       1\n",
       "dtype: int64"
      ]
     },
     "execution_count": 843,
     "metadata": {},
     "output_type": "execute_result"
    }
   ],
   "source": [
    "cleaning.groupby(['address.itemTypeName', 'address.latestForSale.itemTypeName']).size()"
   ]
  },
  {
   "cell_type": "code",
   "execution_count": 844,
   "metadata": {},
   "outputs": [],
   "source": [
    "# # Since address.itemTypeName has less categories than address.latestForSale.itemTypeName,\n",
    "# # and the categories seem to be scrambled, we use the prior (no missing data in either).\n",
    "# # Addresses that have address.latestForSale.itemTypeName as andelsbolig are removed.\n",
    "# # Adresses of that don't have address.itemTypeName as Ejerlejlighed, Rækkehus or Villa are removed.\n",
    "\n",
    "cleaning = cleaning[cleaning['address.itemTypeName'].isin(['Ejerlejlighed', 'Rækkehus', 'Villa']) \\\n",
    "                    & ~cleaning['address.latestForSale.itemTypeName'].isin(['Andelsbolig'])]\n",
    "\n",
    "# # Delete 14 addresses and we now have 32227 addresses left.\n",
    "\n",
    "cleaning.drop(['address.latestForSale.itemTypeName',\n",
    "               'bbrData.mostImportantBuilding.ownership.content'], axis=1, inplace=True)\n",
    "\n",
    "\n",
    "# # bbrData.mostImportantBuilding.ownership.content is deleted since too much data is missing.\n",
    "# # bbrData.mostImportantUnit.propertyType.content is kept, despite 973 missing values\n"
   ]
  },
  {
   "cell_type": "code",
   "execution_count": 845,
   "metadata": {
    "scrolled": true
   },
   "outputs": [
    {
     "name": "stdout",
     "output_type": "stream",
     "text": [
      "\\begin{tabular}{lrrrrrrrr}\n",
      "\\toprule\n",
      "Anvendelse &  0 &  Anden enhed til helårsbeboelse &  Bolig i etageejendom, flerfamiliehus eller to-familiehus &  Dobbelthus &  Fritliggende enfamiliehus &  Kollegiebolig &  Række-, kæde- eller dobbelthus (lodret adskillelse mellem enhederne). &  Række-, kæde- og klyngehus \\\\\n",
      "bbrData.mostImportantUnit.unitUsage.content                  &    &                                 &                                                           &             &                            &                &                                                                        &                             \\\\\n",
      "\\midrule\n",
      "Anden enhed til fritidsformål                                &  0 &                               0 &                                                         0 &           0 &                          0 &              0 &                                                                      1 &                           0 \\\\\n",
      "Anden enhed til helårsbeboelse                               &  0 &                               6 &                                                         0 &           0 &                          0 &              0 &                                                                      0 &                           0 \\\\\n",
      "Bolig i etageejendom (flerfamiliehus, herunder 2-familiehus) &  1 &                               0 &                                                     27097 &           0 &                          0 &              0 &                                                                      0 &                           0 \\\\\n",
      "Dobbelthus                                                   &  4 &                               0 &                                                         0 &         328 &                          0 &              0 &                                                                      2 &                           0 \\\\\n",
      "Fritliggende enfamilieshus (parcelhus)                       &  0 &                               0 &                                                         0 &           1 &                       2475 &              0 &                                                                      0 &                           0 \\\\\n",
      "Kollegium                                                    &  0 &                               0 &                                                         0 &           0 &                          0 &             70 &                                                                      0 &                           0 \\\\\n",
      "Række- og kædehus                                            &  6 &                               0 &                                                         0 &           0 &                          0 &              0 &                                                                      0 &                        1087 \\\\\n",
      "Række-, kæde- eller dobbelthus                               &  0 &                               0 &                                                         0 &           0 &                          0 &              0 &                                                                    172 &                           0 \\\\\n",
      "\\bottomrule\n",
      "\\end{tabular}\n",
      "\n"
     ]
    }
   ],
   "source": [
    "print(pd.crosstab(cleaning['bbrData.mostImportantUnit.unitUsage.content'], cleaning['Anvendelse'],\n",
    "                  margins = False).to_latex(index=True))"
   ]
  },
  {
   "cell_type": "code",
   "execution_count": 846,
   "metadata": {},
   "outputs": [],
   "source": [
    "# # Anvendelse (4 missing) and bbrData.mostImportantUnit.unitUsage.content (973 missing)\n",
    "# # have somewhat identical content.\n",
    "\n",
    "cleaning['unitUsage'] = cleaning['bbrData.mostImportantUnit.unitUsage.content'].combine_first(cleaning['Anvendelse'])\n",
    "cleaning.drop(['bbrData.mostImportantUnit.unitUsage.content', 'Anvendelse'], axis=1, inplace=True)\n"
   ]
  },
  {
   "cell_type": "code",
   "execution_count": 847,
   "metadata": {},
   "outputs": [
    {
     "data": {
      "text/plain": [
       "357"
      ]
     },
     "execution_count": 847,
     "metadata": {},
     "output_type": "execute_result"
    }
   ],
   "source": [
    "len(cleaning[~(cleaning['address.buildYear'] == cleaning['Opførselsesår'])])"
   ]
  },
  {
   "cell_type": "code",
   "execution_count": 848,
   "metadata": {},
   "outputs": [],
   "source": [
    "# # 357 times do these variables for year built not align. We prioritize boligsiden, and drop Opførselsår.\n",
    "\n",
    "cleaning.drop(['address.latestForSale.buildYear', 'bbrData.mostImportantBuilding.buildYear',\n",
    "                'Opførselsesår'], axis=1, inplace=True)\n",
    "\n",
    "# # For rebuild year, we change 0-values to nan, and let Boligsiden have priority.\n",
    "# # Missing most values, sign there has been no rebuild, in these cases we use the buildYear\n",
    "    \n",
    "cleaning['address.rebuildYear'].replace(0, np.nan, inplace=True)\n",
    "cleaning['address.latestForSale.rebuildYear'].replace(0, np.nan, inplace=True)\n",
    "cleaning['rebuildYear'] = cleaning['address.rebuildYear'].combine_first(cleaning['address.latestForSale.rebuildYear'])\n",
    "cleaning['rebuildYear'] = cleaning['rebuildYear'].combine_first(cleaning['bbrData.mostImportantBuilding.rebuildYear'])\n",
    "cleaning['rebuildYear'] = cleaning['rebuildYear'].combine_first(cleaning['Ombygningsår'])\n",
    "cleaning['rebuildYear'] = cleaning['rebuildYear'].combine_first(cleaning['address.buildYear'])\n",
    "cleaning.drop(['address.rebuildYear', 'address.latestForSale.rebuildYear',\n",
    "               'bbrData.mostImportantBuilding.rebuildYear',\n",
    "                'Ombygningsår'], axis=1, inplace=True)\n",
    "\n",
    "# # When it comes to conservation, only 20 adresses has anything else than nan coming from boligsiden,\n",
    "# # and dingeo provided only nan, since there seems to at the moment of scraping to be something wrong\n",
    "# # with this function on the website.\n",
    "\n",
    "cleaning.drop(['bbrData.mostImportantBuilding.conservation.content',\n",
    "               'Fredning', 'Bevaringsværdig'], axis=1, inplace=True)\n"
   ]
  },
  {
   "cell_type": "markdown",
   "metadata": {},
   "source": [
    "* ### Area variables"
   ]
  },
  {
   "cell_type": "code",
   "execution_count": 849,
   "metadata": {},
   "outputs": [],
   "source": [
    "# # Boligsiden data has priority, so when Area has nan (doesnt) Boligstørrelse overrides.\n",
    "# # Area residential is taken from Boligsiden.\n",
    "\n",
    "cleaning['Boligstørrelse'] = cleaning['Boligstørrelse'].str.extract('(\\d+)').astype(float)\n",
    "cleaning['Area'] = cleaning['address.latestForSale.area'].combine_first(cleaning['Boligstørrelse'])\n",
    "\n",
    "# # Basement is again taken with priority from Boligsiden\n",
    "\n",
    "cleaning['address.latestForSale.areaBasement'].replace(0, np.nan, inplace=True)\n",
    "cleaning['areaBasement'] = cleaning['address.latestForSale.areaBasement'].combine_first(cleaning['Kælder'])\n",
    "    \n",
    "# # Prioritizing Boligsiden weighted area.\n",
    "# # If no data for weighted area, let total area override, and vice versa.\n",
    "\n",
    "cleaning['Vægtet Areal'] = cleaning['Vægtet Areal'].str.extract('(\\d+)').astype(float)\n",
    "cleaning['areaWeighted'] = cleaning['address.latestForSale.areaWeighted'].combine_first(cleaning['Vægtet Areal'])\n",
    "cleaning['bbrData.mostImportantUnit.unitAreaTotal'] \\\n",
    "= cleaning['bbrData.mostImportantUnit.unitAreaTotal'].str.extract('(\\d+)').astype(float)\n",
    "cleaning['areaWeighted'] = cleaning['areaWeighted'].combine_first(cleaning['bbrData.mostImportantUnit.unitAreaTotal'])\n",
    "cleaning['areaTotal'] = cleaning['bbrData.mostImportantUnit.unitAreaTotal'].combine_first(cleaning['areaWeighted'])\n"
   ]
  },
  {
   "cell_type": "code",
   "execution_count": 850,
   "metadata": {},
   "outputs": [],
   "source": [
    "# # If weighted area is now nan then delete, which is done for 135, which leaves 32092 addresses \n",
    "\n",
    "cleaning = cleaning[~cleaning['areaWeighted'].isna()]\n",
    "cleaning.drop(['address.latestForSale.area', 'Boligstørrelse',\n",
    "                'bbrData.mostImportantBuilding.buildingAreaTotal', 'Bygning, Samlet areal',\n",
    "                'address.latestForSale.areaBasement', 'Kælder',\n",
    "                'bbrData.mostImportantBuilding.builtAreaTotal', 'bbrData.mostImportantUnit.residentialArea',\n",
    "                'bbrData.mostImportantBuilding.residentialAreaTotal', 'address.latestForSale.areaParcel',\n",
    "                'address.latestForSale.areaWeighted', 'Vægtet Areal', 'bbrData.mostImportantUnit.unitAreaTotal',\n",
    "                'address.latestForSale.areaPaymentCash'], axis=1, inplace=True)"
   ]
  },
  {
   "cell_type": "markdown",
   "metadata": {},
   "source": [
    "* ### Physical characteristics variables"
   ]
  },
  {
   "cell_type": "code",
   "execution_count": 851,
   "metadata": {},
   "outputs": [],
   "source": [
    "# # Boligsiden data is used for number of floors, floor of the apartment.\n",
    "# # Variables that carry no or sparse information are deleted. \n",
    "# # When Boligsiden nr of rooms has nan, Antal værelser overrides.\n",
    "\n",
    "cleaning['numberOfRooms'] = cleaning['address.latestForSale.numberOfRooms'].combine_first(cleaning['Antal værelser'])\n",
    "\n",
    "# # When Boligsiden nr of toilets has nan, antal toiletter overrides.\n",
    "\n",
    "cleaning['numberOfToilets'] \\\n",
    "= cleaning['bbrData.mostImportantUnit.numberOfFlushToilets'].combine_first(cleaning['Antal toiletter'])\n",
    "\n",
    "# # Some addresses have bath, toilet and/or kitchen data missing.\n",
    "# # Dingeo data is used, as there are less categorical variables missing.\n",
    "# # Likewise walls, roof and heating has sparse information from boligsiden, so dingeo is used.\n",
    "\n",
    "cleaning.drop(['bbrData.mostImportantBuilding.numberOfFloors', 'Antal Etager', 'address.latestForSale.floorName',\n",
    "                'bbrData.units', 'bbrData.mostImportantBuilding.buildingNumber',\n",
    "                'bbrData.mostImportantBuilding.buildingUsage.content',\n",
    "                'address.latestForSale.numberOfRooms', 'bbrData.mostImportantUnit.numberOfRooms', 'Antal værelser',\n",
    "                'bbrData.mostImportantUnit.numberOfFlushToilets', 'Antal toiletter',\n",
    "                'bbrData.mostImportantUnit.kitchen.content',\n",
    "                'bbrData.mostImportantBuilding.exteriorWallMaterial.content',\n",
    "                'bbrData.mostImportantBuilding.roofingMaterial.content',\n",
    "                'bbrData.mostImportantBuilding.supplementaryWallMaterial.content',\n",
    "                'bbrData.mostImportantBuilding.supplementaryRoofingMaterial.content',\n",
    "                'bbrData.mostImportantBuilding.asbestosMaterial.content',\n",
    "                'bbrData.mostImportantBuilding.materialSource.content',\n",
    "                'bbrData.mostImportantBuilding.heatingInstallation.content',\n",
    "                'bbrData.mostImportantBuilding.heating.content',\n",
    "                'bbrData.mostImportantBuilding.supplementaryHeating.content',\n",
    "                'bbrData.mostImportantBuilding.buildingWaterSupply.content',\n",
    "                'bbrData.mostImportantBuilding.buildingDrain.content'], axis=1, inplace=True)"
   ]
  },
  {
   "cell_type": "markdown",
   "metadata": {},
   "source": [
    "* ### Environment/society variables"
   ]
  },
  {
   "cell_type": "code",
   "execution_count": 852,
   "metadata": {},
   "outputs": [],
   "source": [
    "# # Energimærke is deleted, since it does not carry much information, only numbers 2 and 3\n",
    "# # Energymark from boligsiden is kept.\n",
    "# # We also choose to delete addresses without an energymark, since it seems important in valuation.\n",
    "# # Therefore 1385 addresses are deleted, leaving 30707 addresses.\n",
    "\n",
    "cleaning = cleaning[~cleaning['address.latestForSale.energyMark'].isna()]\n",
    "\n",
    "# # Radon risk classification from dingeo is used, since has more categories.\n",
    "# # Furthermore from dingeo, oversvømmelse og støjmåling are kept.\n",
    "# # Break in stat classification from dingeo is used, since has more categories.\n",
    "\n",
    "cleaning.drop(['address.energyMark', 'bbrData.mostImportantUnit.energy.code',\n",
    "               'bbrData.mostImportantUnit.energy.content', 'Energimærke',\n",
    "               'address.environmentData.radonRiskCategory',\n",
    "               'address.environmentData.drinkingWaterHardnessCategory',\n",
    "               'address.environmentData.breakInStatistic.countyAverage',\n",
    "               'address.environmentData.breakInStatistic.countryAverage',\n",
    "               'address.environmentData.breakInStatistic.municipalityAverage',\n",
    "               'address.environmentData.breakInStatistic.riskCategory'], axis=1, inplace=True)\n"
   ]
  },
  {
   "cell_type": "markdown",
   "metadata": {},
   "source": [
    "* ### Coordinate variables"
   ]
  },
  {
   "cell_type": "code",
   "execution_count": 853,
   "metadata": {},
   "outputs": [],
   "source": [
    "cleaning['address.mapPosition.latLng.lat'] = cleaning['address.mapPosition.latLng.lat'].astype(float)\n",
    "cleaning['address.mapPosition.latLng.lng'] = cleaning['address.mapPosition.latLng.lng'].astype(float)\n",
    "\n",
    "# # Coordinates are missing for 91 addresses\n",
    "# # Found manually on google maps, turns out because newly developed housing.\n",
    "# # Addresses with missing coordinates are written out in a csv, and manually put in the coordinates.\n",
    "# # Lat and Lng are created in this file.\n",
    "# # The following line should not be run again again, would overwrite the manually written coordinates!\n",
    "####### cleaning.loc[cleaning[\"address.mapPosition.latLng.lng\"].isna(), 'address.address'].to_csv('latlong_missing')\n",
    "\n",
    "coordinates = pd.read_csv(\"latlong_missing\")\n",
    "cleaning = cleaning.merge(coordinates, how='left', on='address.address')\n",
    "cleaning['Latitude'] = cleaning['lat'].combine_first(cleaning['address.mapPosition.latLng.lat'])\n",
    "cleaning['Longitude'] = cleaning['lng'].combine_first(cleaning['address.mapPosition.latLng.lng'])\n",
    "cleaning.drop(['lat', 'lng', 'address.mapPosition.latLng.lat', 'address.mapPosition.latLng.lng'],\n",
    "              axis=1, inplace=True)\n",
    "cleaning = cleaning.loc[:, ~cleaning.columns.str.contains('^Unnamed')]\n"
   ]
  },
  {
   "cell_type": "markdown",
   "metadata": {},
   "source": [
    "* ### Voting variables"
   ]
  },
  {
   "cell_type": "code",
   "execution_count": 854,
   "metadata": {
    "scrolled": false
   },
   "outputs": [
    {
     "name": "stdout",
     "output_type": "stream",
     "text": [
      "\\begin{tabular}{lr}\n",
      "\\toprule\n",
      "{} &  address.postalId \\\\\n",
      "\\midrule\n",
      "2100 &               696 \\\\\n",
      "2300 &               405 \\\\\n",
      "2200 &               392 \\\\\n",
      "2150 &               205 \\\\\n",
      "2400 &                61 \\\\\n",
      "2770 &                 9 \\\\\n",
      "\\bottomrule\n",
      "\\end{tabular}\n",
      "\n"
     ]
    }
   ],
   "source": [
    "missing_vote = cleaning.loc[cleaning[\"Afstemningsområde\"].isna(), [\"address.postalId\", \"Afstemningsområde\",\n",
    "                                                                   'Latitude', 'Longitude']]\n",
    "missing_vote['address.postalId'].value_counts()\n",
    "print(missing_vote.loc[:,'address.postalId'].value_counts().to_latex(index=True))"
   ]
  },
  {
   "cell_type": "code",
   "execution_count": 855,
   "metadata": {},
   "outputs": [],
   "source": [
    "# #The missing voting info is only shared over 6 zips,they are handled seperately.\n",
    "\n",
    "df_2100 = missing_vote.loc[missing_vote['address.postalId'] == 2100, ['Latitude', 'Longitude']]\n",
    "df_2150 = missing_vote.loc[missing_vote['address.postalId'] == 2150, ['Latitude', 'Longitude']]\n",
    "df_2200 = missing_vote.loc[missing_vote['address.postalId'] == 2200, ['Latitude', 'Longitude']]\n",
    "df_2300 = missing_vote.loc[missing_vote['address.postalId'] == 2300, ['Latitude', 'Longitude']]\n",
    "df_2400 = missing_vote.loc[missing_vote['address.postalId'] == 2400, ['Latitude', 'Longitude']]\n",
    "df_2770 = missing_vote.loc[missing_vote['address.postalId'] == 2770, ['Latitude', 'Longitude']]\n",
    "df_2100.to_csv('voting_2100.csv', index=False, header=False, sep=\"\\t\", quoting=3, quotechar=\"\", escapechar=\"\\\\\")\n",
    "df_2150.to_csv('voting_2150.csv', index=False, header=False, sep=\"\\t\", quoting=3, quotechar=\"\", escapechar=\"\\\\\")\n",
    "df_2200.to_csv('voting_2200.csv', index=False, header=False, sep=\"\\t\", quoting=3, quotechar=\"\", escapechar=\"\\\\\")\n",
    "df_2300.to_csv('voting_2300.csv', index=False, header=False, sep=\"\\t\", quoting=3, quotechar=\"\", escapechar=\"\\\\\")\n",
    "df_2400.to_csv('voting_2400.csv', index=False, header=False, sep=\"\\t\", quoting=3, quotechar=\"\", escapechar=\"\\\\\")\n",
    "df_2770.to_csv('voting_2770.csv', index=False, header=False, sep=\"\\t\", quoting=3, quotechar=\"\", escapechar=\"\\\\\")\n",
    "\n",
    "# # From the csv's the coordinates are put into http://www.hamstermap.com/quickmap.php generator,\n",
    "# # The missing data turns out to come from 6 singular voting places.\n",
    "\n",
    "cleaning.loc[(cleaning['Afstemningsområde'].isna()) & (cleaning['address.postalId'] == 2100),\n",
    "             'Afstemningsområde'] = '1. Øst'\n",
    "cleaning.loc[(cleaning['Afstemningsområde'].isna()) & (cleaning['address.postalId'] == 2150),\n",
    "             'Afstemningsområde'] = '1. Øst'\n",
    "cleaning.loc[(cleaning['Afstemningsområde'].isna()) & (cleaning['address.postalId'] == 2200),\n",
    "             'Afstemningsområde'] = '5. Nørrebrohallen'\n",
    "cleaning.loc[(cleaning['Afstemningsområde'].isna()) & (cleaning['address.postalId'] == 2300),\n",
    "             'Afstemningsområde'] = '2. Øst'\n",
    "cleaning.loc[(cleaning['Afstemningsområde'].isna()) & (cleaning['address.postalId'] == 2400),\n",
    "             'Afstemningsområde'] = '6. Vest'\n",
    "cleaning.loc[(cleaning['Afstemningsområde'].isna()) & (cleaning['address.postalId'] == 2770),\n",
    "             'Afstemningsområde'] = '2. Øst'\n",
    "\n",
    "# # From https://www.kmdvalg.dk/fv/2019/KMDValgFV.html one can conclude\n",
    "\n",
    "cleaning.loc[(cleaning['Valgdeltagelse'].isna()) & (cleaning['address.postalId'] == 2100), 'Valgdeltagelse'] = 88.7\n",
    "cleaning.loc[(cleaning['Valgdeltagelse'].isna()) & (cleaning['address.postalId'] == 2150), 'Valgdeltagelse'] = 88.7\n",
    "cleaning.loc[(cleaning['Valgdeltagelse'].isna()) & (cleaning['address.postalId'] == 2200), 'Valgdeltagelse'] = 83.4\n",
    "cleaning.loc[(cleaning['Valgdeltagelse'].isna()) & (cleaning['address.postalId'] == 2300), 'Valgdeltagelse'] = 86.0\n",
    "cleaning.loc[(cleaning['Valgdeltagelse'].isna()) & (cleaning['address.postalId'] == 2400), 'Valgdeltagelse'] = 75.6\n",
    "cleaning.loc[(cleaning['Valgdeltagelse'].isna()) & (cleaning['address.postalId'] == 2770), 'Valgdeltagelse'] = 86.0\n",
    "cleaning.loc[(cleaning['Største_parti'].isna()) & (cleaning['address.postalId'] \\\n",
    "                                                   == 2100), 'Største_parti'] = 'venstre'\n",
    "cleaning.loc[(cleaning['Største_parti'].isna()) & (cleaning['address.postalId'] \\\n",
    "                                                   == 2150), 'Største_parti'] = 'venstre'\n",
    "cleaning.loc[(cleaning['Største_parti'].isna()) & (cleaning['address.postalId'] \\\n",
    "                                                   == 2200), 'Største_parti'] = 'enhedslisten'\n",
    "cleaning.loc[(cleaning['Største_parti'].isna()) & (cleaning['address.postalId'] \\\n",
    "                                                   == 2300), 'Største_parti'] = 'socialdemokratiet'\n",
    "cleaning.loc[(cleaning['Største_parti'].isna()) & (cleaning['address.postalId'] \\\n",
    "                                                   == 2400), 'Største_parti'] = 'enhedslisten'\n",
    "cleaning.loc[(cleaning['Største_parti'].isna()) & (cleaning['address.postalId'] \\\n",
    "                                                   == 2770), 'Største_parti'] = 'socialdemokratiet'\n"
   ]
  },
  {
   "cell_type": "code",
   "execution_count": 856,
   "metadata": {},
   "outputs": [
    {
     "name": "stdout",
     "output_type": "stream",
     "text": [
      "\\begin{tabular}{llllr}\n",
      "\\toprule\n",
      "     &        &      &                   &    0 \\\\\n",
      "address.postalId & Afstemningsområde & Valgdeltagelse & Største\\_parti &      \\\\\n",
      "\\midrule\n",
      "2100 & 1. Øst & 88.7 & venstre &  696 \\\\\n",
      "2300 & 2. Øst & 86.0 & socialdemokratiet &  405 \\\\\n",
      "2200 & 5. Nørrebrohallen & 83.4 & enhedslisten &  392 \\\\\n",
      "2150 & 1. Øst & 88.7 & venstre &  205 \\\\\n",
      "2400 & 6. Vest & 75.6 & enhedslisten &   61 \\\\\n",
      "2770 & 2. Øst & 86.0 & socialdemokratiet &    9 \\\\\n",
      "\\bottomrule\n",
      "\\end{tabular}\n",
      "\n"
     ]
    }
   ],
   "source": [
    "missing_vote = cleaning.loc[cleaning['Afstemningsområde'].isin(['1. Øst','5. Nørrebrohallen',\n",
    "                                                                '2. Øst','6. Vest','2. Øst'])]\n",
    "\n",
    "missing_vote = missing_vote.loc[:,['address.postalId', 'Afstemningsområde','Valgdeltagelse','Største_parti']]\n",
    "\n",
    "missing_vote.value_counts()\n",
    "print(missing_vote.value_counts().to_latex(index=True))"
   ]
  },
  {
   "cell_type": "markdown",
   "metadata": {},
   "source": [
    "* ## Further cleaning"
   ]
  },
  {
   "cell_type": "code",
   "execution_count": 857,
   "metadata": {},
   "outputs": [],
   "source": [
    "# # 717 adresses have flawed bbr data from Boligsiden, too many addresses to discard.\n",
    "# # The missing data is interpolated, copying the most common type with same zipcode and same number of rooms\n",
    "\n",
    "cleaning.loc[cleaning['bbrData.mostImportantUnit.propertyType.content'].isna(),\n",
    "    'bbrData.mostImportantUnit.propertyType.content'] = cleaning.groupby([\"address.postalId\", 'numberOfRooms'])[\n",
    "    'bbrData.mostImportantUnit.propertyType.content'].transform(lambda x: x.mode()[0] if any(x.mode()) else np.nan)\n",
    "\n",
    "# # Copying the most common toilet content with same zipcode and same number of toilets\n",
    "\n",
    "cleaning.loc[cleaning['bbrData.mostImportantUnit.toilet.content'].isna(),\n",
    "    'bbrData.mostImportantUnit.toilet.content'] = cleaning.groupby([\"address.postalId\", 'numberOfToilets'])[\n",
    "    'bbrData.mostImportantUnit.toilet.content'].transform(lambda x: x.mode()[0] if any(x.mode()) else np.nan)\n",
    "\n",
    "# # Copying the most common bathroom variables with same zipcode and same number of rooms\n",
    "\n",
    "cleaning.loc[cleaning['bbrData.mostImportantUnit.bath.content'].isna(),\n",
    "    'bbrData.mostImportantUnit.bath.content'] = cleaning.groupby([\"address.postalId\", 'numberOfRooms'])[\n",
    "    'bbrData.mostImportantUnit.bath.content'].transform(lambda x: x.mode()[0] if any(x.mode()) else np.nan)\n",
    "cleaning.loc[cleaning['bbrData.mostImportantUnit.numberOfBathrooms'].isna(),\n",
    "    'bbrData.mostImportantUnit.numberOfBathrooms'] = cleaning.groupby([\"address.postalId\", 'numberOfRooms'])[\n",
    "    'bbrData.mostImportantUnit.numberOfBathrooms'].transform(lambda x: x.mode()[0] if any(x.mode()) else np.nan)\n"
   ]
  },
  {
   "cell_type": "code",
   "execution_count": 858,
   "metadata": {},
   "outputs": [],
   "source": [
    "# # 53 adresses still have mssing bbr data. These are deleted, leaving 30654.\n",
    "\n",
    "cleaning = cleaning[~cleaning['bbrData.mostImportantUnit.propertyType.content'].isna() & ~cleaning[\n",
    "    'bbrData.mostImportantUnit.toilet.content'].isna() & ~cleaning['bbrData.mostImportantUnit.bath.content'].isna() &\n",
    "            ~cleaning['bbrData.mostImportantUnit.numberOfBathrooms'].isna()]\n",
    "\n",
    "# # Finally køkkenforhold, ydervægsmateriale, tagmateriale og varmeinstallation have a few missing values.\n",
    "# # These are likewise filled with the most common in the zipcode group and number of rooms.\n",
    "\n",
    "cleaning.loc[cleaning['Køkkenforhold'].isna(),\n",
    "             'Køkkenforhold'] = cleaning.groupby([\"address.postalId\", 'numberOfRooms'])[\n",
    "    'Køkkenforhold'].transform(lambda x: x.mode()[0] if any(x.mode()) else np.nan)\n",
    "cleaning.loc[cleaning['Ydervægsmateriale'].isna(),\n",
    "             'Ydervægsmateriale'] = cleaning.groupby([\"address.postalId\", 'numberOfRooms'])[\n",
    "    'Ydervægsmateriale'].transform(lambda x: x.mode()[0] if any(x.mode()) else np.nan)\n",
    "cleaning.loc[cleaning['Tagmateriale'].isna(),\n",
    "             'Tagmateriale'] = cleaning.groupby([\"address.postalId\", 'numberOfRooms'])[\n",
    "    'Tagmateriale'].transform(lambda x: x.mode()[0] if any(x.mode()) else np.nan)\n",
    "cleaning.loc[cleaning['Varmeinstallation'].isna(),\n",
    "             'Varmeinstallation'] = cleaning.groupby([\"address.postalId\", 'numberOfRooms'])[\n",
    "    'Varmeinstallation'].transform(lambda x: x.mode()[0] if any(x.mode()) else np.nan)\n"
   ]
  },
  {
   "cell_type": "markdown",
   "metadata": {},
   "source": [
    "* ## Additional economic variables"
   ]
  },
  {
   "cell_type": "code",
   "execution_count": 859,
   "metadata": {},
   "outputs": [],
   "source": [
    "# # Statbank house price index\n",
    "# # From statbank EJ14 is downloaded, to get an index for house/apartment prices for every address\n",
    "\n",
    "price_index = pd.read_csv('salePriceIndex.csv', delimiter=',', header=1, skiprows=1)\n",
    "price_index = price_index.drop([0, 1]).T\n",
    "\n",
    "# # A replacement dictionary is made\n",
    "\n",
    "houseIndex = {index.replace('M', '-'): value for index, value in price_index[2].iteritems()}\n",
    "apartmentIndex = {index.replace('M', '-'): value for index, value in price_index[3].iteritems()}\n",
    "\n",
    "# # For every address the index of the previous month is of interest\n",
    "\n",
    "cleaning['previousMonth'] = cleaning['address.latestSale.saleDate'] - pd.DateOffset(months=1)\n",
    "cleaning['previousMonth'] = cleaning['previousMonth'].astype(str).str[:7]\n",
    "cleaning['priceHouse'] = cleaning['previousMonth'].replace(houseIndex)\n",
    "cleaning['priceApartment'] = cleaning['previousMonth'].replace(apartmentIndex)\n",
    "\n",
    "# # 108 adresses are sold in 2021 and should therefore not be included, which leaves 30546 addresses.\n",
    "\n",
    "cleaning = cleaning[~(cleaning['address.latestSale.salesYear'] == 2021)]\n",
    "\n",
    "# # The indexes are set to 100 in jan 2016 (ignoring that there is one previous month)\n",
    "\n",
    "house100 = cleaning.loc[cleaning['previousMonth'] == '2016-01', ['priceHouse']].to_numpy()[0][0]\n",
    "apartment100 = cleaning.loc[cleaning['previousMonth'] == '2016-01', ['priceApartment']].to_numpy()[0][0]\n",
    "cleaning['priceHouse'] = cleaning['priceHouse'].astype(float) * (100 / house100)\n",
    "cleaning['priceApartment'] = cleaning['priceApartment'].astype(float) * (100 / apartment100)\n",
    "\n",
    "# # Price index is set to single variable, dependent on type\n",
    "\n",
    "def f(X):\n",
    "    if X['address.itemTypeName'] == 'Ejerlejlighed':\n",
    "        priceIndex = X['priceApartment']\n",
    "    else:\n",
    "        priceIndex = X['priceHouse']\n",
    "    return priceIndex\n",
    "cleaning['priceIndex'] = cleaning.apply(f, axis=1)\n",
    "cleaning = cleaning.drop(columns=['priceApartment', 'priceHouse'])\n"
   ]
  },
  {
   "cell_type": "code",
   "execution_count": 860,
   "metadata": {},
   "outputs": [],
   "source": [
    "# # Likewise, variables for stockmarket, mortgagerate and unemployment is included in the model.\n",
    "\n",
    "MPK13 = pd.read_csv('OMXC20.csv', delimiter=',', header=0, skiprows=1)\n",
    "MPK13 = MPK13.T\n",
    "OMXC20 = {index.replace('M', '-'): value for index, value in MPK13[0].iteritems()}\n",
    "cleaning['OMXC20'] = cleaning['previousMonth'].replace(OMXC20)\n",
    "\n",
    "DNRNURI = pd.read_csv('mortgageRate.csv', delimiter=',', header=0, skiprows=2)\n",
    "DNRNURI = DNRNURI.T\n",
    "mortgageRate = {index.replace('M', '-'): value for index, value in DNRNURI[1].iteritems()}\n",
    "cleaning['mortgageRate'] = cleaning['previousMonth'].replace(mortgageRate)\n",
    "\n",
    "AUS08 = pd.read_csv('unemployment.csv', delimiter=',', header=0, skiprows=2)\n",
    "AUS08 = AUS08.T\n",
    "unemploymentRate = {index.replace('M', '-'): value for index, value in AUS08[1].iteritems()}\n",
    "cleaning['unemploymentRate'] = cleaning['previousMonth'].replace(unemploymentRate)"
   ]
  },
  {
   "cell_type": "code",
   "execution_count": 861,
   "metadata": {},
   "outputs": [],
   "source": [
    "#cleaning.to_csv('cleaning.csv', index=False)\n",
    "\n",
    "#cleaning = pd.read_csv(\"cleaning.csv\",\n",
    "#                       parse_dates=['address.latestSale.saleDate', 'address.latestValuation.valuationDate'])\n",
    "#pd.set_option('display.max_columns', None)\n",
    "#pd.set_option('display.max_rows', None)\n",
    "#pd.set_option('display.max_colwidth', None)\n",
    "\n",
    "\n",
    "\n"
   ]
  },
  {
   "cell_type": "code",
   "execution_count": 862,
   "metadata": {},
   "outputs": [
    {
     "data": {
      "text/plain": [
       "30546"
      ]
     },
     "execution_count": 862,
     "metadata": {},
     "output_type": "execute_result"
    }
   ],
   "source": [
    "len(cleaning)"
   ]
  },
  {
   "cell_type": "code",
   "execution_count": 863,
   "metadata": {
    "scrolled": true
   },
   "outputs": [
    {
     "data": {
      "text/plain": [
       "address.address                                       0\n",
       "address.street                                        0\n",
       "address.streetName                                    0\n",
       "address.postalId                                      0\n",
       "address.city                                          0\n",
       "address.latestValuation.valuationDate                 0\n",
       "address.latestValuation.propertyValuation             0\n",
       "address.latestSale.salePrice                          0\n",
       "address.latestForSale.paymentCash                     0\n",
       "address.latestSale.salesYear                          0\n",
       "address.latestSale.saleDate                           0\n",
       "AVM_pris                                           3919\n",
       "address.itemTypeName                                  0\n",
       "bbrData.mostImportantUnit.propertyType.content        0\n",
       "address.buildYear                                     0\n",
       "address.latestForSale.areaResidential                 0\n",
       "address.latestForSale.numberOfFloors                  0\n",
       "address.latestForSale.floor                           0\n",
       "bbrData.mostImportantUnit.toilet.content              0\n",
       "bbrData.mostImportantUnit.bath.content                0\n",
       "bbrData.mostImportantUnit.numberOfBathrooms           0\n",
       "Køkkenforhold                                         0\n",
       "Ydervægsmateriale                                     0\n",
       "Tagmateriale                                          0\n",
       "Varmeinstallation                                     0\n",
       "address.latestForSale.energyMark                      0\n",
       "Radonrisiko                                           0\n",
       "Støjmåling                                            0\n",
       "Oversvømmelsesrisiko_skybrud                          0\n",
       "Meter_over_havet                                      0\n",
       "Indbrudsrisiko                                        0\n",
       "Største_parti                                         0\n",
       "Valgdeltagelse                                        0\n",
       "Afstemningsområde                                     0\n",
       "school                                                0\n",
       "roadtrain                                             0\n",
       "junction                                              0\n",
       "daycare                                               0\n",
       "metro                                                 0\n",
       "doctor                                                0\n",
       "soccerfield                                           0\n",
       "hospital                                              0\n",
       "stop                                                  0\n",
       "lake                                                  0\n",
       "supermarket                                           0\n",
       "pharmacy                                              0\n",
       "strain                                                0\n",
       "airport                                               0\n",
       "train                                                 0\n",
       "library                                               0\n",
       "publicbath                                            0\n",
       "coast                                                 0\n",
       "sportshall                                            0\n",
       "forest                                                0\n",
       "SalesPeriod                                           0\n",
       "unitUsage                                             0\n",
       "rebuildYear                                           0\n",
       "Area                                                  0\n",
       "areaBasement                                      27276\n",
       "areaWeighted                                          0\n",
       "areaTotal                                             0\n",
       "numberOfRooms                                         0\n",
       "numberOfToilets                                       0\n",
       "Latitude                                              0\n",
       "Longitude                                             0\n",
       "previousMonth                                         0\n",
       "priceIndex                                            0\n",
       "OMXC20                                                0\n",
       "mortgageRate                                          0\n",
       "unemploymentRate                                      0\n",
       "dtype: int64"
      ]
     },
     "execution_count": 863,
     "metadata": {},
     "output_type": "execute_result"
    }
   ],
   "source": [
    "cleaning.isna().sum()"
   ]
  },
  {
   "cell_type": "markdown",
   "metadata": {},
   "source": [
    "* ### Rename and reorder"
   ]
  },
  {
   "cell_type": "code",
   "execution_count": 864,
   "metadata": {},
   "outputs": [],
   "source": [
    "# # Renaming all variables, so origin is clear\n",
    "\n",
    "cleaning.rename(columns={'address.address':'address_b'}, inplace=True)\n",
    "cleaning.rename(columns={'address.street':'street_b'}, inplace=True)\n",
    "cleaning.rename(columns={'address.streetName':'streetName_b'}, inplace=True)\n",
    "cleaning.rename(columns={'address.postalId':'postalId_b'}, inplace=True)\n",
    "cleaning.rename(columns={'address.city':'city_b'}, inplace=True)\n",
    "cleaning.rename(columns={'address.latestValuation.valuationDate':'valuationDate_b'}, inplace=True)\n",
    "cleaning.rename(columns={'address.latestValuation.propertyValuation':'propertyValuation_b'}, inplace=True)\n",
    "cleaning.rename(columns={'address.latestSale.salePrice':'salePrice_b'}, inplace=True)\n",
    "cleaning.rename(columns={'address.latestForSale.paymentCash':'paymentCash_b'}, inplace=True)\n",
    "cleaning.rename(columns={'address.latestSale.salesYear':'salesYear_b'}, inplace=True)\n",
    "cleaning.rename(columns={'address.latestSale.saleDate':'saleDate_b'}, inplace=True)\n",
    "cleaning.rename(columns={'AVM_pris':'AVM_pris_d'}, inplace=True)\n",
    "cleaning.rename(columns={'address.itemTypeName':'itemTypeName_b'}, inplace=True)\n",
    "cleaning.rename(columns={'bbrData.mostImportantUnit.propertyType.content':'propertyType_b'}, inplace=True)\n",
    "cleaning.rename(columns={'address.buildYear':'buildYear_b'}, inplace=True)\n",
    "cleaning.rename(columns={'address.latestForSale.areaResidential':'areaResidential_b'}, inplace=True)\n",
    "cleaning.rename(columns={'address.latestForSale.numberOfFloors':'numberOfFloors_b'}, inplace=True)\n",
    "cleaning.rename(columns={'address.latestForSale.floor':'floor_b'}, inplace=True)\n",
    "cleaning.rename(columns={'bbrData.mostImportantUnit.toilet.content':'toilet.content_b'}, inplace=True)\n",
    "cleaning.rename(columns={'bbrData.mostImportantUnit.bath.content':'bath.content_b'}, inplace=True)\n",
    "cleaning.rename(columns={'bbrData.mostImportantUnit.numberOfBathrooms':'numberOfBathrooms_b'}, inplace=True)\n",
    "cleaning.rename(columns={'Køkkenforhold':'kitchen.content_d'}, inplace=True)\n",
    "cleaning.rename(columns={'Ydervægsmateriale':'outerwall_d'}, inplace=True)\n",
    "cleaning.rename(columns={'Tagmateriale':'roof_d'}, inplace=True)\n",
    "cleaning.rename(columns={'Varmeinstallation':'heating_d'}, inplace=True)\n",
    "cleaning.rename(columns={'address.latestForSale.energyMark':'energyMark_b'}, inplace=True)\n",
    "cleaning.rename(columns={'Radonrisiko':'radonRisk_d'}, inplace=True)\n",
    "cleaning.rename(columns={'Støjmåling':'noise_d'}, inplace=True)\n",
    "cleaning.rename(columns={'Oversvømmelsesrisiko_skybrud':'floodingRisk_d'}, inplace=True)\n",
    "cleaning.rename(columns={'Meter_over_havet':'aboveSea_d'}, inplace=True)\n",
    "cleaning.rename(columns={'Indbrudsrisiko':'breakinRisk_d'}, inplace=True)\n",
    "cleaning.rename(columns={'Største_parti':'biggestParty_d'}, inplace=True)\n",
    "cleaning.rename(columns={'Valgdeltagelse':'turnoutVote_d'}, inplace=True)\n",
    "cleaning.rename(columns={'Afstemningsområde':'electionArea_d'}, inplace=True)\n",
    "cleaning = cleaning.rename(columns={'school':'school_h', 'roadtrain':'roadtrain_h',\n",
    "                                    'junction':'junction_h', 'daycare':'daycare_h',\n",
    "                                    'metro':'metro_h', 'doctor':'doctor_h',\n",
    "                                    'soccerfield':'soccerfield_h', 'hospital':'hospital_h',\n",
    "                                    'stop':'busstop_h', 'lake':'lake_h',\n",
    "                                    'supermarket':'supermarket_h', 'pharmacy':'pharmacy_h',\n",
    "                                    'strain':'strain_h', 'airport':'airport_h',\n",
    "                                    'train':'train_h', 'library':'library_h',\n",
    "                                    'publicbath':'publicbath_h', 'coast':'coast_h',\n",
    "                                    'coast':'coast_h', 'sportshall':'sportshall_h',\n",
    "                                    'forest':'forest_h'})\n",
    "cleaning.rename(columns={'SalesPeriod':'SalesPeriod_b'}, inplace=True)\n",
    "cleaning.rename(columns={'unitUsage':'unitUsage_bd'}, inplace=True)\n",
    "cleaning.rename(columns={'rebuildYear':'rebuildYear_bd'}, inplace=True)\n",
    "cleaning.rename(columns={'Area':'area_bd'}, inplace=True)\n",
    "cleaning.rename(columns={'areaBasement':'areaBasement_bd'}, inplace=True)\n",
    "cleaning.rename(columns={'areaWeighted':'areaWeighted_bd'}, inplace=True)\n",
    "cleaning.rename(columns={'areaTotal':'areaTotal_bd'}, inplace=True)\n",
    "cleaning.rename(columns={'numberOfRooms':'numberOfRooms_bd'}, inplace=True)\n",
    "cleaning.rename(columns={'numberOfToilets':'numberOfToilets_bd'}, inplace=True)\n",
    "cleaning.rename(columns={'Latitude':'latitude_b'}, inplace=True)\n",
    "cleaning.rename(columns={'Longitude':'longitude_b'}, inplace=True)\n",
    "cleaning.drop(columns=['previousMonth'], inplace=True) # # Don't need this anymore\n",
    "cleaning.rename(columns={'priceIndex':'priceIndex_s'}, inplace=True)\n",
    "cleaning.rename(columns={'OMXC20':'OMXC20_s'}, inplace=True)\n",
    "cleaning.rename(columns={'mortgageRate':'mortgageRate_s'}, inplace=True)\n",
    "cleaning.rename(columns={'unemploymentRate':'unemploymentRate_s'}, inplace=True)\n",
    "cleaning = cleaning[['address_b', 'street_b', 'streetName_b', 'postalId_b', 'city_b', 'valuationDate_b',\n",
    "                    'propertyValuation_b', 'salePrice_b', 'paymentCash_b', 'salesYear_b', 'saleDate_b',\n",
    "                    'itemTypeName_b','propertyType_b', 'buildYear_b', 'areaResidential_b', 'numberOfFloors_b',\n",
    "                    'floor_b', 'toilet.content_b', 'bath.content_b',\n",
    "                    'numberOfBathrooms_b', 'energyMark_b', 'SalesPeriod_b', 'latitude_b', 'longitude_b',\n",
    "                    'unitUsage_bd', 'rebuildYear_bd', 'area_bd', 'areaBasement_bd',\n",
    "                    'areaWeighted_bd', 'areaTotal_bd', 'numberOfRooms_bd', 'numberOfToilets_bd', 'AVM_pris_d',\n",
    "                    'kitchen.content_d', 'outerwall_d', 'roof_d', 'heating_d', 'radonRisk_d', 'noise_d',\n",
    "                    'floodingRisk_d', 'aboveSea_d', 'breakinRisk_d', 'biggestParty_d', 'turnoutVote_d',\n",
    "                    'electionArea_d', 'school_h', 'roadtrain_h', 'junction_h', 'daycare_h', 'metro_h', 'doctor_h',\n",
    "                    'soccerfield_h', 'hospital_h',  'busstop_h', 'lake_h', 'supermarket_h', 'pharmacy_h',\n",
    "                    'strain_h', 'airport_h', 'train_h', 'library_h', 'publicbath_h', 'coast_h', 'sportshall_h',\n",
    "                    'forest_h', 'priceIndex_s', 'OMXC20_s', 'mortgageRate_s', 'unemploymentRate_s']]\n"
   ]
  },
  {
   "cell_type": "code",
   "execution_count": 865,
   "metadata": {
    "scrolled": true
   },
   "outputs": [
    {
     "data": {
      "text/plain": [
       "address_b                      object\n",
       "street_b                       object\n",
       "streetName_b                   object\n",
       "postalId_b                      int64\n",
       "city_b                         object\n",
       "valuationDate_b        datetime64[ns]\n",
       "propertyValuation_b           float64\n",
       "salePrice_b                   float64\n",
       "paymentCash_b                 float64\n",
       "salesYear_b                     int64\n",
       "saleDate_b             datetime64[ns]\n",
       "itemTypeName_b                 object\n",
       "propertyType_b                 object\n",
       "buildYear_b                     int64\n",
       "areaResidential_b             float64\n",
       "numberOfFloors_b              float64\n",
       "floor_b                       float64\n",
       "toilet.content_b               object\n",
       "bath.content_b                 object\n",
       "numberOfBathrooms_b            object\n",
       "energyMark_b                   object\n",
       "SalesPeriod_b                 float64\n",
       "latitude_b                    float64\n",
       "longitude_b                   float64\n",
       "unitUsage_bd                   object\n",
       "rebuildYear_bd                 object\n",
       "area_bd                       float64\n",
       "areaBasement_bd                object\n",
       "areaWeighted_bd                object\n",
       "areaTotal_bd                   object\n",
       "numberOfRooms_bd              float64\n",
       "numberOfToilets_bd             object\n",
       "AVM_pris_d                    float64\n",
       "kitchen.content_d              object\n",
       "outerwall_d                    object\n",
       "roof_d                         object\n",
       "heating_d                      object\n",
       "radonRisk_d                    object\n",
       "noise_d                        object\n",
       "floodingRisk_d                 object\n",
       "aboveSea_d                     object\n",
       "breakinRisk_d                  object\n",
       "biggestParty_d                 object\n",
       "turnoutVote_d                 float64\n",
       "electionArea_d                 object\n",
       "school_h                      float64\n",
       "roadtrain_h                   float64\n",
       "junction_h                    float64\n",
       "daycare_h                     float64\n",
       "metro_h                       float64\n",
       "doctor_h                      float64\n",
       "soccerfield_h                 float64\n",
       "hospital_h                    float64\n",
       "busstop_h                     float64\n",
       "lake_h                        float64\n",
       "supermarket_h                 float64\n",
       "pharmacy_h                    float64\n",
       "strain_h                      float64\n",
       "airport_h                     float64\n",
       "train_h                       float64\n",
       "library_h                     float64\n",
       "publicbath_h                  float64\n",
       "coast_h                       float64\n",
       "sportshall_h                  float64\n",
       "forest_h                      float64\n",
       "priceIndex_s                  float64\n",
       "OMXC20_s                      float64\n",
       "mortgageRate_s                float64\n",
       "unemploymentRate_s            float64\n",
       "dtype: object"
      ]
     },
     "execution_count": 865,
     "metadata": {},
     "output_type": "execute_result"
    }
   ],
   "source": [
    "cleaning.dtypes # Make table out of these"
   ]
  },
  {
   "cell_type": "code",
   "execution_count": 880,
   "metadata": {
    "scrolled": true
   },
   "outputs": [
    {
     "name": "stdout",
     "output_type": "stream",
     "text": [
      "\\verb|address_b| & & & \\\\\n",
      "\\verb|street_b| & & & \\\\\n",
      "\\verb|streetName_b| & & & \\\\\n",
      "\\verb|postalId_b| & & & \\\\\n",
      "\\verb|city_b| & & & \\\\\n",
      "\\verb|valuationDate_b| & & & \\\\\n",
      "\\verb|propertyValuation_b| & & & \\\\\n",
      "\\verb|salePrice_b| & & & \\\\\n",
      "\\verb|paymentCash_b| & & & \\\\\n",
      "\\verb|salesYear_b| & & & \\\\\n",
      "\\verb|saleDate_b| & & & \\\\\n",
      "\\verb|itemTypeName_b| & & & \\\\\n",
      "\\verb|propertyType_b| & & & \\\\\n",
      "\\verb|buildYear_b| & & & \\\\\n",
      "\\verb|areaResidential_b| & & & \\\\\n",
      "\\verb|numberOfFloors_b| & & & \\\\\n",
      "\\verb|floor_b| & & & \\\\\n",
      "\\verb|toilet.content_b| & & & \\\\\n",
      "\\verb|bath.content_b| & & & \\\\\n",
      "\\verb|numberOfBathrooms_b| & & & \\\\\n",
      "\\verb|energyMark_b| & & & \\\\\n",
      "\\verb|SalesPeriod_b| & & & \\\\\n",
      "\\verb|latitude_b| & & & \\\\\n",
      "\\verb|longitude_b| & & & \\\\\n",
      "\\verb|unitUsage_bd| & & & \\\\\n",
      "\\verb|rebuildYear_bd| & & & \\\\\n",
      "\\verb|area_bd| & & & \\\\\n",
      "\\verb|areaBasement_bd| & & & \\\\\n",
      "\\verb|areaWeighted_bd| & & & \\\\\n",
      "\\verb|areaTotal_bd| & & & \\\\\n",
      "\\verb|numberOfRooms_bd| & & & \\\\\n",
      "\\verb|numberOfToilets_bd| & & & \\\\\n",
      "\\verb|AVM_pris_d| & & & \\\\\n",
      "\\verb|kitchen.content_d| & & & \\\\\n",
      "\\verb|outerwall_d| & & & \\\\\n",
      "\\verb|roof_d| & & & \\\\\n",
      "\\verb|heating_d| & & & \\\\\n",
      "\\verb|radonRisk_d| & & & \\\\\n",
      "\\verb|noise_d| & & & \\\\\n",
      "\\verb|floodingRisk_d| & & & \\\\\n",
      "\\verb|aboveSea_d| & & & \\\\\n",
      "\\verb|breakinRisk_d| & & & \\\\\n",
      "\\verb|biggestParty_d| & & & \\\\\n",
      "\\verb|turnoutVote_d| & & & \\\\\n",
      "\\verb|electionArea_d| & & & \\\\\n",
      "\\verb|school_h| & & & \\\\\n",
      "\\verb|roadtrain_h| & & & \\\\\n",
      "\\verb|junction_h| & & & \\\\\n",
      "\\verb|daycare_h| & & & \\\\\n",
      "\\verb|metro_h| & & & \\\\\n",
      "\\verb|doctor_h| & & & \\\\\n",
      "\\verb|soccerfield_h| & & & \\\\\n",
      "\\verb|hospital_h| & & & \\\\\n",
      "\\verb|busstop_h| & & & \\\\\n",
      "\\verb|lake_h| & & & \\\\\n",
      "\\verb|supermarket_h| & & & \\\\\n",
      "\\verb|pharmacy_h| & & & \\\\\n",
      "\\verb|strain_h| & & & \\\\\n",
      "\\verb|airport_h| & & & \\\\\n",
      "\\verb|train_h| & & & \\\\\n",
      "\\verb|library_h| & & & \\\\\n",
      "\\verb|publicbath_h| & & & \\\\\n",
      "\\verb|coast_h| & & & \\\\\n",
      "\\verb|sportshall_h| & & & \\\\\n",
      "\\verb|forest_h| & & & \\\\\n",
      "\\verb|priceIndex_s| & & & \\\\\n",
      "\\verb|OMXC20_s| & & & \\\\\n",
      "\\verb|mortgageRate_s| & & & \\\\\n",
      "\\verb|unemploymentRate_s| & & & \\\\\n"
     ]
    }
   ],
   "source": [
    "for i in cleaning.columns:\n",
    "    print(\"\\\\verb|\"+i+\"| & & & \\\\\\\\\")"
   ]
  },
  {
   "cell_type": "code",
   "execution_count": null,
   "metadata": {},
   "outputs": [],
   "source": [
    "print(cleaning.value_counts().to_latex(index=True))"
   ]
  },
  {
   "cell_type": "code",
   "execution_count": 866,
   "metadata": {},
   "outputs": [],
   "source": [
    "#cleaning.to_csv('cleaning.csv', index=False)\n",
    "\n",
    "#cleaning = pd.read_csv(\"cleaning.csv\",\n",
    "#                       parse_dates=['saleDate_b', 'valuationDate_b'])\n",
    "#pd.set_option('display.max_columns', None)\n",
    "#pd.set_option('display.max_rows', None)\n",
    "#pd.set_option('display.max_colwidth', None)"
   ]
  },
  {
   "cell_type": "code",
   "execution_count": null,
   "metadata": {},
   "outputs": [],
   "source": []
  }
 ],
 "metadata": {
  "kernelspec": {
   "display_name": "Python 3",
   "language": "python",
   "name": "python3"
  },
  "language_info": {
   "codemirror_mode": {
    "name": "ipython",
    "version": 3
   },
   "file_extension": ".py",
   "mimetype": "text/x-python",
   "name": "python",
   "nbconvert_exporter": "python",
   "pygments_lexer": "ipython3",
   "version": "3.9.0"
  }
 },
 "nbformat": 4,
 "nbformat_minor": 4
}
